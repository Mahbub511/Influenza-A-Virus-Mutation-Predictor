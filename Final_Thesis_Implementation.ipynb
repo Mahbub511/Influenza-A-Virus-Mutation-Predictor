{
  "nbformat": 4,
  "nbformat_minor": 0,
  "metadata": {
    "colab": {
      "name": "Final Thesis Implementation.ipynb",
      "provenance": [],
      "collapsed_sections": [],
      "include_colab_link": true
    },
    "kernelspec": {
      "name": "python3",
      "display_name": "Python 3"
    },
    "language_info": {
      "name": "python"
    }
  },
  "cells": [
    {
      "cell_type": "markdown",
      "metadata": {
        "id": "view-in-github",
        "colab_type": "text"
      },
      "source": [
        "<a href=\"https://colab.research.google.com/github/Mahbub511/Influenza-A-Virus-Mutation-Predictor/blob/main/Final_Thesis_Implementation.ipynb\" target=\"_parent\"><img src=\"https://colab.research.google.com/assets/colab-badge.svg\" alt=\"Open In Colab\"/></a>"
      ]
    },
    {
      "cell_type": "code",
      "execution_count": null,
      "metadata": {
        "colab": {
          "base_uri": "https://localhost:8080/"
        },
        "id": "4gXmOVPr4m_Q",
        "outputId": "234d062d-9d13-4446-ca67-9cb7235d823a"
      },
      "outputs": [
        {
          "output_type": "stream",
          "name": "stdout",
          "text": [
            "Mounted at /content/drive\n"
          ]
        }
      ],
      "source": [
        "from google.colab import drive\n",
        "drive.mount('/content/drive')"
      ]
    },
    {
      "cell_type": "code",
      "source": [
        "import numpy as np # linear algebra\n",
        "import pandas as pd # data processing, CSV file I/O (e.g. pd.read_csv)\n",
        "import os\n",
        "import pandas as pd\n",
        "import numpy as np\n",
        "from matplotlib import pyplot as plt\n",
        "import seaborn as sns\n",
        "from sklearn.feature_extraction.text import CountVectorizer\n",
        "from sklearn.model_selection import train_test_split\n",
        "from sklearn.metrics import accuracy_score, confusion_matrix, classification_report"
      ],
      "metadata": {
        "id": "y9BL8dZT49wH"
      },
      "execution_count": null,
      "outputs": []
    },
    {
      "cell_type": "code",
      "source": [
        "#import Datasets\n",
        "df = pd.read_csv('/content/drive/MyDrive/ML Dataset/M1(1996-2021).fa.csv')\n",
        "df1 = pd.read_csv('/content/drive/MyDrive/ML Dataset/M2_Mutation_2000_to_2022_anyHA_NA.csv')"
      ],
      "metadata": {
        "id": "dtpAAJBl8O2L"
      },
      "execution_count": null,
      "outputs": []
    },
    {
      "cell_type": "code",
      "source": [
        "df.head()"
      ],
      "metadata": {
        "colab": {
          "base_uri": "https://localhost:8080/",
          "height": 206
        },
        "id": "BCJVp3qG-ngb",
        "outputId": "06762143-9424-40f3-c646-5389f37e3da0"
      },
      "execution_count": null,
      "outputs": [
        {
          "output_type": "execute_result",
          "data": {
            "text/plain": [
              "   Unnamed: 0 Accession                                           sequence  \\\n",
              "0           0  ADX98961  MSLLTEVETYVLSIIPSGPLKAEIAQRLESVFAGKNTDLEALMEWL...   \n",
              "1           1  ADH01959  MSLLTEVETYVLSIIPSGPLKAEIAQRLESVFAGKNTDLEALMEWL...   \n",
              "2           2  ADX98793  MSLLTEVETYVLSIIPSGPLKAEIAQRLESVFAGKNTDLEALMEWL...   \n",
              "3           3  ADN05227  MSLLTEVETYVLSIIPSGPLKAEIAQRLESVFAGKNTDLEALMEWL...   \n",
              "4           4  ADG42154  MSLLTEVETYVLSIIPSGPLKAEIAQRLESVFAGKNTDLEALMEWL...   \n",
              "\n",
              "                  strain protien serotype mutation  \n",
              "0  A/Aalborg/INS132/2009      M1     H1N1     S31N  \n",
              "1  A/Aalborg/INS133/2009      M1     H1N1     S31N  \n",
              "2  A/Aalborg/INS282/2009      M1     H1N1     S31N  \n",
              "3  A/Aalborg/INS283/2009      M1     H1N1     S31N  \n",
              "4   A/Aarhus/INS116/2009      M1     H1N1     S31N  "
            ],
            "text/html": [
              "\n",
              "  <div id=\"df-a8e09a8c-5730-4345-8ab0-bb3caf40fca5\">\n",
              "    <div class=\"colab-df-container\">\n",
              "      <div>\n",
              "<style scoped>\n",
              "    .dataframe tbody tr th:only-of-type {\n",
              "        vertical-align: middle;\n",
              "    }\n",
              "\n",
              "    .dataframe tbody tr th {\n",
              "        vertical-align: top;\n",
              "    }\n",
              "\n",
              "    .dataframe thead th {\n",
              "        text-align: right;\n",
              "    }\n",
              "</style>\n",
              "<table border=\"1\" class=\"dataframe\">\n",
              "  <thead>\n",
              "    <tr style=\"text-align: right;\">\n",
              "      <th></th>\n",
              "      <th>Unnamed: 0</th>\n",
              "      <th>Accession</th>\n",
              "      <th>sequence</th>\n",
              "      <th>strain</th>\n",
              "      <th>protien</th>\n",
              "      <th>serotype</th>\n",
              "      <th>mutation</th>\n",
              "    </tr>\n",
              "  </thead>\n",
              "  <tbody>\n",
              "    <tr>\n",
              "      <th>0</th>\n",
              "      <td>0</td>\n",
              "      <td>ADX98961</td>\n",
              "      <td>MSLLTEVETYVLSIIPSGPLKAEIAQRLESVFAGKNTDLEALMEWL...</td>\n",
              "      <td>A/Aalborg/INS132/2009</td>\n",
              "      <td>M1</td>\n",
              "      <td>H1N1</td>\n",
              "      <td>S31N</td>\n",
              "    </tr>\n",
              "    <tr>\n",
              "      <th>1</th>\n",
              "      <td>1</td>\n",
              "      <td>ADH01959</td>\n",
              "      <td>MSLLTEVETYVLSIIPSGPLKAEIAQRLESVFAGKNTDLEALMEWL...</td>\n",
              "      <td>A/Aalborg/INS133/2009</td>\n",
              "      <td>M1</td>\n",
              "      <td>H1N1</td>\n",
              "      <td>S31N</td>\n",
              "    </tr>\n",
              "    <tr>\n",
              "      <th>2</th>\n",
              "      <td>2</td>\n",
              "      <td>ADX98793</td>\n",
              "      <td>MSLLTEVETYVLSIIPSGPLKAEIAQRLESVFAGKNTDLEALMEWL...</td>\n",
              "      <td>A/Aalborg/INS282/2009</td>\n",
              "      <td>M1</td>\n",
              "      <td>H1N1</td>\n",
              "      <td>S31N</td>\n",
              "    </tr>\n",
              "    <tr>\n",
              "      <th>3</th>\n",
              "      <td>3</td>\n",
              "      <td>ADN05227</td>\n",
              "      <td>MSLLTEVETYVLSIIPSGPLKAEIAQRLESVFAGKNTDLEALMEWL...</td>\n",
              "      <td>A/Aalborg/INS283/2009</td>\n",
              "      <td>M1</td>\n",
              "      <td>H1N1</td>\n",
              "      <td>S31N</td>\n",
              "    </tr>\n",
              "    <tr>\n",
              "      <th>4</th>\n",
              "      <td>4</td>\n",
              "      <td>ADG42154</td>\n",
              "      <td>MSLLTEVETYVLSIIPSGPLKAEIAQRLESVFAGKNTDLEALMEWL...</td>\n",
              "      <td>A/Aarhus/INS116/2009</td>\n",
              "      <td>M1</td>\n",
              "      <td>H1N1</td>\n",
              "      <td>S31N</td>\n",
              "    </tr>\n",
              "  </tbody>\n",
              "</table>\n",
              "</div>\n",
              "      <button class=\"colab-df-convert\" onclick=\"convertToInteractive('df-a8e09a8c-5730-4345-8ab0-bb3caf40fca5')\"\n",
              "              title=\"Convert this dataframe to an interactive table.\"\n",
              "              style=\"display:none;\">\n",
              "        \n",
              "  <svg xmlns=\"http://www.w3.org/2000/svg\" height=\"24px\"viewBox=\"0 0 24 24\"\n",
              "       width=\"24px\">\n",
              "    <path d=\"M0 0h24v24H0V0z\" fill=\"none\"/>\n",
              "    <path d=\"M18.56 5.44l.94 2.06.94-2.06 2.06-.94-2.06-.94-.94-2.06-.94 2.06-2.06.94zm-11 1L8.5 8.5l.94-2.06 2.06-.94-2.06-.94L8.5 2.5l-.94 2.06-2.06.94zm10 10l.94 2.06.94-2.06 2.06-.94-2.06-.94-.94-2.06-.94 2.06-2.06.94z\"/><path d=\"M17.41 7.96l-1.37-1.37c-.4-.4-.92-.59-1.43-.59-.52 0-1.04.2-1.43.59L10.3 9.45l-7.72 7.72c-.78.78-.78 2.05 0 2.83L4 21.41c.39.39.9.59 1.41.59.51 0 1.02-.2 1.41-.59l7.78-7.78 2.81-2.81c.8-.78.8-2.07 0-2.86zM5.41 20L4 18.59l7.72-7.72 1.47 1.35L5.41 20z\"/>\n",
              "  </svg>\n",
              "      </button>\n",
              "      \n",
              "  <style>\n",
              "    .colab-df-container {\n",
              "      display:flex;\n",
              "      flex-wrap:wrap;\n",
              "      gap: 12px;\n",
              "    }\n",
              "\n",
              "    .colab-df-convert {\n",
              "      background-color: #E8F0FE;\n",
              "      border: none;\n",
              "      border-radius: 50%;\n",
              "      cursor: pointer;\n",
              "      display: none;\n",
              "      fill: #1967D2;\n",
              "      height: 32px;\n",
              "      padding: 0 0 0 0;\n",
              "      width: 32px;\n",
              "    }\n",
              "\n",
              "    .colab-df-convert:hover {\n",
              "      background-color: #E2EBFA;\n",
              "      box-shadow: 0px 1px 2px rgba(60, 64, 67, 0.3), 0px 1px 3px 1px rgba(60, 64, 67, 0.15);\n",
              "      fill: #174EA6;\n",
              "    }\n",
              "\n",
              "    [theme=dark] .colab-df-convert {\n",
              "      background-color: #3B4455;\n",
              "      fill: #D2E3FC;\n",
              "    }\n",
              "\n",
              "    [theme=dark] .colab-df-convert:hover {\n",
              "      background-color: #434B5C;\n",
              "      box-shadow: 0px 1px 3px 1px rgba(0, 0, 0, 0.15);\n",
              "      filter: drop-shadow(0px 1px 2px rgba(0, 0, 0, 0.3));\n",
              "      fill: #FFFFFF;\n",
              "    }\n",
              "  </style>\n",
              "\n",
              "      <script>\n",
              "        const buttonEl =\n",
              "          document.querySelector('#df-a8e09a8c-5730-4345-8ab0-bb3caf40fca5 button.colab-df-convert');\n",
              "        buttonEl.style.display =\n",
              "          google.colab.kernel.accessAllowed ? 'block' : 'none';\n",
              "\n",
              "        async function convertToInteractive(key) {\n",
              "          const element = document.querySelector('#df-a8e09a8c-5730-4345-8ab0-bb3caf40fca5');\n",
              "          const dataTable =\n",
              "            await google.colab.kernel.invokeFunction('convertToInteractive',\n",
              "                                                     [key], {});\n",
              "          if (!dataTable) return;\n",
              "\n",
              "          const docLinkHtml = 'Like what you see? Visit the ' +\n",
              "            '<a target=\"_blank\" href=https://colab.research.google.com/notebooks/data_table.ipynb>data table notebook</a>'\n",
              "            + ' to learn more about interactive tables.';\n",
              "          element.innerHTML = '';\n",
              "          dataTable['output_type'] = 'display_data';\n",
              "          await google.colab.output.renderOutput(dataTable, element);\n",
              "          const docLink = document.createElement('div');\n",
              "          docLink.innerHTML = docLinkHtml;\n",
              "          element.appendChild(docLink);\n",
              "        }\n",
              "      </script>\n",
              "    </div>\n",
              "  </div>\n",
              "  "
            ]
          },
          "metadata": {},
          "execution_count": 4
        }
      ]
    },
    {
      "cell_type": "code",
      "source": [
        "df1.head()"
      ],
      "metadata": {
        "colab": {
          "base_uri": "https://localhost:8080/",
          "height": 206
        },
        "id": "WaSFRIe5-sYa",
        "outputId": "630bdb26-39ee-4559-d502-1247cf7f91b5"
      },
      "execution_count": null,
      "outputs": [
        {
          "output_type": "execute_result",
          "data": {
            "text/plain": [
              "   Unnamed: 0 Accession                                           sequence  \\\n",
              "0           0  ADX98962  MSLLTEVETPTRSEWECRCSDSSDPLVIAANIIGILHLILWITDRL...   \n",
              "1           1  ADH01960  MSLLTEVETPTRSEWECRCSDSSDPLIIAANIIGILHLILWITDRL...   \n",
              "2           2  ADX98794  MSLLTEVETPTRSGWECRCSDSSDPLVIAANIIGILHLILWITDRL...   \n",
              "3           3  ADN05228  MSLLTEVETPTRNEWECRCSDSSDPLVIAANIIGILHLILWITDRL...   \n",
              "4           4  ADG42155  MSLLTEVETPTRSEWECRCSDSSDPLVIAANIIGILHLILWITDRL...   \n",
              "\n",
              "                  strain protien serotype mutation  \n",
              "0  A/Aalborg/INS132/2009      M2     H1N1     S31N  \n",
              "1  A/Aalborg/INS133/2009      M2     H1N1     S31N  \n",
              "2  A/Aalborg/INS282/2009      M2     H1N1     S31N  \n",
              "3  A/Aalborg/INS283/2009      M2     H1N1     S31N  \n",
              "4   A/Aarhus/INS116/2009      M2     H1N1     S31N  "
            ],
            "text/html": [
              "\n",
              "  <div id=\"df-0e5846c7-47c3-445f-b865-2cab0c528170\">\n",
              "    <div class=\"colab-df-container\">\n",
              "      <div>\n",
              "<style scoped>\n",
              "    .dataframe tbody tr th:only-of-type {\n",
              "        vertical-align: middle;\n",
              "    }\n",
              "\n",
              "    .dataframe tbody tr th {\n",
              "        vertical-align: top;\n",
              "    }\n",
              "\n",
              "    .dataframe thead th {\n",
              "        text-align: right;\n",
              "    }\n",
              "</style>\n",
              "<table border=\"1\" class=\"dataframe\">\n",
              "  <thead>\n",
              "    <tr style=\"text-align: right;\">\n",
              "      <th></th>\n",
              "      <th>Unnamed: 0</th>\n",
              "      <th>Accession</th>\n",
              "      <th>sequence</th>\n",
              "      <th>strain</th>\n",
              "      <th>protien</th>\n",
              "      <th>serotype</th>\n",
              "      <th>mutation</th>\n",
              "    </tr>\n",
              "  </thead>\n",
              "  <tbody>\n",
              "    <tr>\n",
              "      <th>0</th>\n",
              "      <td>0</td>\n",
              "      <td>ADX98962</td>\n",
              "      <td>MSLLTEVETPTRSEWECRCSDSSDPLVIAANIIGILHLILWITDRL...</td>\n",
              "      <td>A/Aalborg/INS132/2009</td>\n",
              "      <td>M2</td>\n",
              "      <td>H1N1</td>\n",
              "      <td>S31N</td>\n",
              "    </tr>\n",
              "    <tr>\n",
              "      <th>1</th>\n",
              "      <td>1</td>\n",
              "      <td>ADH01960</td>\n",
              "      <td>MSLLTEVETPTRSEWECRCSDSSDPLIIAANIIGILHLILWITDRL...</td>\n",
              "      <td>A/Aalborg/INS133/2009</td>\n",
              "      <td>M2</td>\n",
              "      <td>H1N1</td>\n",
              "      <td>S31N</td>\n",
              "    </tr>\n",
              "    <tr>\n",
              "      <th>2</th>\n",
              "      <td>2</td>\n",
              "      <td>ADX98794</td>\n",
              "      <td>MSLLTEVETPTRSGWECRCSDSSDPLVIAANIIGILHLILWITDRL...</td>\n",
              "      <td>A/Aalborg/INS282/2009</td>\n",
              "      <td>M2</td>\n",
              "      <td>H1N1</td>\n",
              "      <td>S31N</td>\n",
              "    </tr>\n",
              "    <tr>\n",
              "      <th>3</th>\n",
              "      <td>3</td>\n",
              "      <td>ADN05228</td>\n",
              "      <td>MSLLTEVETPTRNEWECRCSDSSDPLVIAANIIGILHLILWITDRL...</td>\n",
              "      <td>A/Aalborg/INS283/2009</td>\n",
              "      <td>M2</td>\n",
              "      <td>H1N1</td>\n",
              "      <td>S31N</td>\n",
              "    </tr>\n",
              "    <tr>\n",
              "      <th>4</th>\n",
              "      <td>4</td>\n",
              "      <td>ADG42155</td>\n",
              "      <td>MSLLTEVETPTRSEWECRCSDSSDPLVIAANIIGILHLILWITDRL...</td>\n",
              "      <td>A/Aarhus/INS116/2009</td>\n",
              "      <td>M2</td>\n",
              "      <td>H1N1</td>\n",
              "      <td>S31N</td>\n",
              "    </tr>\n",
              "  </tbody>\n",
              "</table>\n",
              "</div>\n",
              "      <button class=\"colab-df-convert\" onclick=\"convertToInteractive('df-0e5846c7-47c3-445f-b865-2cab0c528170')\"\n",
              "              title=\"Convert this dataframe to an interactive table.\"\n",
              "              style=\"display:none;\">\n",
              "        \n",
              "  <svg xmlns=\"http://www.w3.org/2000/svg\" height=\"24px\"viewBox=\"0 0 24 24\"\n",
              "       width=\"24px\">\n",
              "    <path d=\"M0 0h24v24H0V0z\" fill=\"none\"/>\n",
              "    <path d=\"M18.56 5.44l.94 2.06.94-2.06 2.06-.94-2.06-.94-.94-2.06-.94 2.06-2.06.94zm-11 1L8.5 8.5l.94-2.06 2.06-.94-2.06-.94L8.5 2.5l-.94 2.06-2.06.94zm10 10l.94 2.06.94-2.06 2.06-.94-2.06-.94-.94-2.06-.94 2.06-2.06.94z\"/><path d=\"M17.41 7.96l-1.37-1.37c-.4-.4-.92-.59-1.43-.59-.52 0-1.04.2-1.43.59L10.3 9.45l-7.72 7.72c-.78.78-.78 2.05 0 2.83L4 21.41c.39.39.9.59 1.41.59.51 0 1.02-.2 1.41-.59l7.78-7.78 2.81-2.81c.8-.78.8-2.07 0-2.86zM5.41 20L4 18.59l7.72-7.72 1.47 1.35L5.41 20z\"/>\n",
              "  </svg>\n",
              "      </button>\n",
              "      \n",
              "  <style>\n",
              "    .colab-df-container {\n",
              "      display:flex;\n",
              "      flex-wrap:wrap;\n",
              "      gap: 12px;\n",
              "    }\n",
              "\n",
              "    .colab-df-convert {\n",
              "      background-color: #E8F0FE;\n",
              "      border: none;\n",
              "      border-radius: 50%;\n",
              "      cursor: pointer;\n",
              "      display: none;\n",
              "      fill: #1967D2;\n",
              "      height: 32px;\n",
              "      padding: 0 0 0 0;\n",
              "      width: 32px;\n",
              "    }\n",
              "\n",
              "    .colab-df-convert:hover {\n",
              "      background-color: #E2EBFA;\n",
              "      box-shadow: 0px 1px 2px rgba(60, 64, 67, 0.3), 0px 1px 3px 1px rgba(60, 64, 67, 0.15);\n",
              "      fill: #174EA6;\n",
              "    }\n",
              "\n",
              "    [theme=dark] .colab-df-convert {\n",
              "      background-color: #3B4455;\n",
              "      fill: #D2E3FC;\n",
              "    }\n",
              "\n",
              "    [theme=dark] .colab-df-convert:hover {\n",
              "      background-color: #434B5C;\n",
              "      box-shadow: 0px 1px 3px 1px rgba(0, 0, 0, 0.15);\n",
              "      filter: drop-shadow(0px 1px 2px rgba(0, 0, 0, 0.3));\n",
              "      fill: #FFFFFF;\n",
              "    }\n",
              "  </style>\n",
              "\n",
              "      <script>\n",
              "        const buttonEl =\n",
              "          document.querySelector('#df-0e5846c7-47c3-445f-b865-2cab0c528170 button.colab-df-convert');\n",
              "        buttonEl.style.display =\n",
              "          google.colab.kernel.accessAllowed ? 'block' : 'none';\n",
              "\n",
              "        async function convertToInteractive(key) {\n",
              "          const element = document.querySelector('#df-0e5846c7-47c3-445f-b865-2cab0c528170');\n",
              "          const dataTable =\n",
              "            await google.colab.kernel.invokeFunction('convertToInteractive',\n",
              "                                                     [key], {});\n",
              "          if (!dataTable) return;\n",
              "\n",
              "          const docLinkHtml = 'Like what you see? Visit the ' +\n",
              "            '<a target=\"_blank\" href=https://colab.research.google.com/notebooks/data_table.ipynb>data table notebook</a>'\n",
              "            + ' to learn more about interactive tables.';\n",
              "          element.innerHTML = '';\n",
              "          dataTable['output_type'] = 'display_data';\n",
              "          await google.colab.output.renderOutput(dataTable, element);\n",
              "          const docLink = document.createElement('div');\n",
              "          docLink.innerHTML = docLinkHtml;\n",
              "          element.appendChild(docLink);\n",
              "        }\n",
              "      </script>\n",
              "    </div>\n",
              "  </div>\n",
              "  "
            ]
          },
          "metadata": {},
          "execution_count": 5
        }
      ]
    },
    {
      "cell_type": "code",
      "source": [
        "protein_seq = df[['Accession','sequence', 'serotype', 'mutation']]"
      ],
      "metadata": {
        "id": "abtvkRbr-8jG"
      },
      "execution_count": null,
      "outputs": []
    },
    {
      "cell_type": "code",
      "source": [
        "protein_seq1 = df1[['Accession','sequence', 'serotype', 'mutation']]"
      ],
      "metadata": {
        "id": "gcl_xcpj_LIw"
      },
      "execution_count": null,
      "outputs": []
    },
    {
      "cell_type": "code",
      "source": [
        "protein_seq.head()"
      ],
      "metadata": {
        "colab": {
          "base_uri": "https://localhost:8080/",
          "height": 206
        },
        "id": "d-6GzvMk_TLA",
        "outputId": "29c3af1f-1689-4858-cfb7-d923a2203307"
      },
      "execution_count": null,
      "outputs": [
        {
          "output_type": "execute_result",
          "data": {
            "text/plain": [
              "  Accession                                           sequence serotype  \\\n",
              "0  ADX98961  MSLLTEVETYVLSIIPSGPLKAEIAQRLESVFAGKNTDLEALMEWL...     H1N1   \n",
              "1  ADH01959  MSLLTEVETYVLSIIPSGPLKAEIAQRLESVFAGKNTDLEALMEWL...     H1N1   \n",
              "2  ADX98793  MSLLTEVETYVLSIIPSGPLKAEIAQRLESVFAGKNTDLEALMEWL...     H1N1   \n",
              "3  ADN05227  MSLLTEVETYVLSIIPSGPLKAEIAQRLESVFAGKNTDLEALMEWL...     H1N1   \n",
              "4  ADG42154  MSLLTEVETYVLSIIPSGPLKAEIAQRLESVFAGKNTDLEALMEWL...     H1N1   \n",
              "\n",
              "  mutation  \n",
              "0     S31N  \n",
              "1     S31N  \n",
              "2     S31N  \n",
              "3     S31N  \n",
              "4     S31N  "
            ],
            "text/html": [
              "\n",
              "  <div id=\"df-d3b6ea9e-7d7f-4886-a838-bd48955fd848\">\n",
              "    <div class=\"colab-df-container\">\n",
              "      <div>\n",
              "<style scoped>\n",
              "    .dataframe tbody tr th:only-of-type {\n",
              "        vertical-align: middle;\n",
              "    }\n",
              "\n",
              "    .dataframe tbody tr th {\n",
              "        vertical-align: top;\n",
              "    }\n",
              "\n",
              "    .dataframe thead th {\n",
              "        text-align: right;\n",
              "    }\n",
              "</style>\n",
              "<table border=\"1\" class=\"dataframe\">\n",
              "  <thead>\n",
              "    <tr style=\"text-align: right;\">\n",
              "      <th></th>\n",
              "      <th>Accession</th>\n",
              "      <th>sequence</th>\n",
              "      <th>serotype</th>\n",
              "      <th>mutation</th>\n",
              "    </tr>\n",
              "  </thead>\n",
              "  <tbody>\n",
              "    <tr>\n",
              "      <th>0</th>\n",
              "      <td>ADX98961</td>\n",
              "      <td>MSLLTEVETYVLSIIPSGPLKAEIAQRLESVFAGKNTDLEALMEWL...</td>\n",
              "      <td>H1N1</td>\n",
              "      <td>S31N</td>\n",
              "    </tr>\n",
              "    <tr>\n",
              "      <th>1</th>\n",
              "      <td>ADH01959</td>\n",
              "      <td>MSLLTEVETYVLSIIPSGPLKAEIAQRLESVFAGKNTDLEALMEWL...</td>\n",
              "      <td>H1N1</td>\n",
              "      <td>S31N</td>\n",
              "    </tr>\n",
              "    <tr>\n",
              "      <th>2</th>\n",
              "      <td>ADX98793</td>\n",
              "      <td>MSLLTEVETYVLSIIPSGPLKAEIAQRLESVFAGKNTDLEALMEWL...</td>\n",
              "      <td>H1N1</td>\n",
              "      <td>S31N</td>\n",
              "    </tr>\n",
              "    <tr>\n",
              "      <th>3</th>\n",
              "      <td>ADN05227</td>\n",
              "      <td>MSLLTEVETYVLSIIPSGPLKAEIAQRLESVFAGKNTDLEALMEWL...</td>\n",
              "      <td>H1N1</td>\n",
              "      <td>S31N</td>\n",
              "    </tr>\n",
              "    <tr>\n",
              "      <th>4</th>\n",
              "      <td>ADG42154</td>\n",
              "      <td>MSLLTEVETYVLSIIPSGPLKAEIAQRLESVFAGKNTDLEALMEWL...</td>\n",
              "      <td>H1N1</td>\n",
              "      <td>S31N</td>\n",
              "    </tr>\n",
              "  </tbody>\n",
              "</table>\n",
              "</div>\n",
              "      <button class=\"colab-df-convert\" onclick=\"convertToInteractive('df-d3b6ea9e-7d7f-4886-a838-bd48955fd848')\"\n",
              "              title=\"Convert this dataframe to an interactive table.\"\n",
              "              style=\"display:none;\">\n",
              "        \n",
              "  <svg xmlns=\"http://www.w3.org/2000/svg\" height=\"24px\"viewBox=\"0 0 24 24\"\n",
              "       width=\"24px\">\n",
              "    <path d=\"M0 0h24v24H0V0z\" fill=\"none\"/>\n",
              "    <path d=\"M18.56 5.44l.94 2.06.94-2.06 2.06-.94-2.06-.94-.94-2.06-.94 2.06-2.06.94zm-11 1L8.5 8.5l.94-2.06 2.06-.94-2.06-.94L8.5 2.5l-.94 2.06-2.06.94zm10 10l.94 2.06.94-2.06 2.06-.94-2.06-.94-.94-2.06-.94 2.06-2.06.94z\"/><path d=\"M17.41 7.96l-1.37-1.37c-.4-.4-.92-.59-1.43-.59-.52 0-1.04.2-1.43.59L10.3 9.45l-7.72 7.72c-.78.78-.78 2.05 0 2.83L4 21.41c.39.39.9.59 1.41.59.51 0 1.02-.2 1.41-.59l7.78-7.78 2.81-2.81c.8-.78.8-2.07 0-2.86zM5.41 20L4 18.59l7.72-7.72 1.47 1.35L5.41 20z\"/>\n",
              "  </svg>\n",
              "      </button>\n",
              "      \n",
              "  <style>\n",
              "    .colab-df-container {\n",
              "      display:flex;\n",
              "      flex-wrap:wrap;\n",
              "      gap: 12px;\n",
              "    }\n",
              "\n",
              "    .colab-df-convert {\n",
              "      background-color: #E8F0FE;\n",
              "      border: none;\n",
              "      border-radius: 50%;\n",
              "      cursor: pointer;\n",
              "      display: none;\n",
              "      fill: #1967D2;\n",
              "      height: 32px;\n",
              "      padding: 0 0 0 0;\n",
              "      width: 32px;\n",
              "    }\n",
              "\n",
              "    .colab-df-convert:hover {\n",
              "      background-color: #E2EBFA;\n",
              "      box-shadow: 0px 1px 2px rgba(60, 64, 67, 0.3), 0px 1px 3px 1px rgba(60, 64, 67, 0.15);\n",
              "      fill: #174EA6;\n",
              "    }\n",
              "\n",
              "    [theme=dark] .colab-df-convert {\n",
              "      background-color: #3B4455;\n",
              "      fill: #D2E3FC;\n",
              "    }\n",
              "\n",
              "    [theme=dark] .colab-df-convert:hover {\n",
              "      background-color: #434B5C;\n",
              "      box-shadow: 0px 1px 3px 1px rgba(0, 0, 0, 0.15);\n",
              "      filter: drop-shadow(0px 1px 2px rgba(0, 0, 0, 0.3));\n",
              "      fill: #FFFFFF;\n",
              "    }\n",
              "  </style>\n",
              "\n",
              "      <script>\n",
              "        const buttonEl =\n",
              "          document.querySelector('#df-d3b6ea9e-7d7f-4886-a838-bd48955fd848 button.colab-df-convert');\n",
              "        buttonEl.style.display =\n",
              "          google.colab.kernel.accessAllowed ? 'block' : 'none';\n",
              "\n",
              "        async function convertToInteractive(key) {\n",
              "          const element = document.querySelector('#df-d3b6ea9e-7d7f-4886-a838-bd48955fd848');\n",
              "          const dataTable =\n",
              "            await google.colab.kernel.invokeFunction('convertToInteractive',\n",
              "                                                     [key], {});\n",
              "          if (!dataTable) return;\n",
              "\n",
              "          const docLinkHtml = 'Like what you see? Visit the ' +\n",
              "            '<a target=\"_blank\" href=https://colab.research.google.com/notebooks/data_table.ipynb>data table notebook</a>'\n",
              "            + ' to learn more about interactive tables.';\n",
              "          element.innerHTML = '';\n",
              "          dataTable['output_type'] = 'display_data';\n",
              "          await google.colab.output.renderOutput(dataTable, element);\n",
              "          const docLink = document.createElement('div');\n",
              "          docLink.innerHTML = docLinkHtml;\n",
              "          element.appendChild(docLink);\n",
              "        }\n",
              "      </script>\n",
              "    </div>\n",
              "  </div>\n",
              "  "
            ]
          },
          "metadata": {},
          "execution_count": 8
        }
      ]
    },
    {
      "cell_type": "code",
      "source": [
        "protein_seq1.head()"
      ],
      "metadata": {
        "colab": {
          "base_uri": "https://localhost:8080/",
          "height": 206
        },
        "id": "XnxORc_l_YeQ",
        "outputId": "eca05ade-e00a-4b4c-da4a-061a1c1aed50"
      },
      "execution_count": null,
      "outputs": [
        {
          "output_type": "execute_result",
          "data": {
            "text/plain": [
              "  Accession                                           sequence serotype  \\\n",
              "0  ADX98962  MSLLTEVETPTRSEWECRCSDSSDPLVIAANIIGILHLILWITDRL...     H1N1   \n",
              "1  ADH01960  MSLLTEVETPTRSEWECRCSDSSDPLIIAANIIGILHLILWITDRL...     H1N1   \n",
              "2  ADX98794  MSLLTEVETPTRSGWECRCSDSSDPLVIAANIIGILHLILWITDRL...     H1N1   \n",
              "3  ADN05228  MSLLTEVETPTRNEWECRCSDSSDPLVIAANIIGILHLILWITDRL...     H1N1   \n",
              "4  ADG42155  MSLLTEVETPTRSEWECRCSDSSDPLVIAANIIGILHLILWITDRL...     H1N1   \n",
              "\n",
              "  mutation  \n",
              "0     S31N  \n",
              "1     S31N  \n",
              "2     S31N  \n",
              "3     S31N  \n",
              "4     S31N  "
            ],
            "text/html": [
              "\n",
              "  <div id=\"df-01804c1d-e1aa-437b-b362-cf2443fb55a5\">\n",
              "    <div class=\"colab-df-container\">\n",
              "      <div>\n",
              "<style scoped>\n",
              "    .dataframe tbody tr th:only-of-type {\n",
              "        vertical-align: middle;\n",
              "    }\n",
              "\n",
              "    .dataframe tbody tr th {\n",
              "        vertical-align: top;\n",
              "    }\n",
              "\n",
              "    .dataframe thead th {\n",
              "        text-align: right;\n",
              "    }\n",
              "</style>\n",
              "<table border=\"1\" class=\"dataframe\">\n",
              "  <thead>\n",
              "    <tr style=\"text-align: right;\">\n",
              "      <th></th>\n",
              "      <th>Accession</th>\n",
              "      <th>sequence</th>\n",
              "      <th>serotype</th>\n",
              "      <th>mutation</th>\n",
              "    </tr>\n",
              "  </thead>\n",
              "  <tbody>\n",
              "    <tr>\n",
              "      <th>0</th>\n",
              "      <td>ADX98962</td>\n",
              "      <td>MSLLTEVETPTRSEWECRCSDSSDPLVIAANIIGILHLILWITDRL...</td>\n",
              "      <td>H1N1</td>\n",
              "      <td>S31N</td>\n",
              "    </tr>\n",
              "    <tr>\n",
              "      <th>1</th>\n",
              "      <td>ADH01960</td>\n",
              "      <td>MSLLTEVETPTRSEWECRCSDSSDPLIIAANIIGILHLILWITDRL...</td>\n",
              "      <td>H1N1</td>\n",
              "      <td>S31N</td>\n",
              "    </tr>\n",
              "    <tr>\n",
              "      <th>2</th>\n",
              "      <td>ADX98794</td>\n",
              "      <td>MSLLTEVETPTRSGWECRCSDSSDPLVIAANIIGILHLILWITDRL...</td>\n",
              "      <td>H1N1</td>\n",
              "      <td>S31N</td>\n",
              "    </tr>\n",
              "    <tr>\n",
              "      <th>3</th>\n",
              "      <td>ADN05228</td>\n",
              "      <td>MSLLTEVETPTRNEWECRCSDSSDPLVIAANIIGILHLILWITDRL...</td>\n",
              "      <td>H1N1</td>\n",
              "      <td>S31N</td>\n",
              "    </tr>\n",
              "    <tr>\n",
              "      <th>4</th>\n",
              "      <td>ADG42155</td>\n",
              "      <td>MSLLTEVETPTRSEWECRCSDSSDPLVIAANIIGILHLILWITDRL...</td>\n",
              "      <td>H1N1</td>\n",
              "      <td>S31N</td>\n",
              "    </tr>\n",
              "  </tbody>\n",
              "</table>\n",
              "</div>\n",
              "      <button class=\"colab-df-convert\" onclick=\"convertToInteractive('df-01804c1d-e1aa-437b-b362-cf2443fb55a5')\"\n",
              "              title=\"Convert this dataframe to an interactive table.\"\n",
              "              style=\"display:none;\">\n",
              "        \n",
              "  <svg xmlns=\"http://www.w3.org/2000/svg\" height=\"24px\"viewBox=\"0 0 24 24\"\n",
              "       width=\"24px\">\n",
              "    <path d=\"M0 0h24v24H0V0z\" fill=\"none\"/>\n",
              "    <path d=\"M18.56 5.44l.94 2.06.94-2.06 2.06-.94-2.06-.94-.94-2.06-.94 2.06-2.06.94zm-11 1L8.5 8.5l.94-2.06 2.06-.94-2.06-.94L8.5 2.5l-.94 2.06-2.06.94zm10 10l.94 2.06.94-2.06 2.06-.94-2.06-.94-.94-2.06-.94 2.06-2.06.94z\"/><path d=\"M17.41 7.96l-1.37-1.37c-.4-.4-.92-.59-1.43-.59-.52 0-1.04.2-1.43.59L10.3 9.45l-7.72 7.72c-.78.78-.78 2.05 0 2.83L4 21.41c.39.39.9.59 1.41.59.51 0 1.02-.2 1.41-.59l7.78-7.78 2.81-2.81c.8-.78.8-2.07 0-2.86zM5.41 20L4 18.59l7.72-7.72 1.47 1.35L5.41 20z\"/>\n",
              "  </svg>\n",
              "      </button>\n",
              "      \n",
              "  <style>\n",
              "    .colab-df-container {\n",
              "      display:flex;\n",
              "      flex-wrap:wrap;\n",
              "      gap: 12px;\n",
              "    }\n",
              "\n",
              "    .colab-df-convert {\n",
              "      background-color: #E8F0FE;\n",
              "      border: none;\n",
              "      border-radius: 50%;\n",
              "      cursor: pointer;\n",
              "      display: none;\n",
              "      fill: #1967D2;\n",
              "      height: 32px;\n",
              "      padding: 0 0 0 0;\n",
              "      width: 32px;\n",
              "    }\n",
              "\n",
              "    .colab-df-convert:hover {\n",
              "      background-color: #E2EBFA;\n",
              "      box-shadow: 0px 1px 2px rgba(60, 64, 67, 0.3), 0px 1px 3px 1px rgba(60, 64, 67, 0.15);\n",
              "      fill: #174EA6;\n",
              "    }\n",
              "\n",
              "    [theme=dark] .colab-df-convert {\n",
              "      background-color: #3B4455;\n",
              "      fill: #D2E3FC;\n",
              "    }\n",
              "\n",
              "    [theme=dark] .colab-df-convert:hover {\n",
              "      background-color: #434B5C;\n",
              "      box-shadow: 0px 1px 3px 1px rgba(0, 0, 0, 0.15);\n",
              "      filter: drop-shadow(0px 1px 2px rgba(0, 0, 0, 0.3));\n",
              "      fill: #FFFFFF;\n",
              "    }\n",
              "  </style>\n",
              "\n",
              "      <script>\n",
              "        const buttonEl =\n",
              "          document.querySelector('#df-01804c1d-e1aa-437b-b362-cf2443fb55a5 button.colab-df-convert');\n",
              "        buttonEl.style.display =\n",
              "          google.colab.kernel.accessAllowed ? 'block' : 'none';\n",
              "\n",
              "        async function convertToInteractive(key) {\n",
              "          const element = document.querySelector('#df-01804c1d-e1aa-437b-b362-cf2443fb55a5');\n",
              "          const dataTable =\n",
              "            await google.colab.kernel.invokeFunction('convertToInteractive',\n",
              "                                                     [key], {});\n",
              "          if (!dataTable) return;\n",
              "\n",
              "          const docLinkHtml = 'Like what you see? Visit the ' +\n",
              "            '<a target=\"_blank\" href=https://colab.research.google.com/notebooks/data_table.ipynb>data table notebook</a>'\n",
              "            + ' to learn more about interactive tables.';\n",
              "          element.innerHTML = '';\n",
              "          dataTable['output_type'] = 'display_data';\n",
              "          await google.colab.output.renderOutput(dataTable, element);\n",
              "          const docLink = document.createElement('div');\n",
              "          docLink.innerHTML = docLinkHtml;\n",
              "          element.appendChild(docLink);\n",
              "        }\n",
              "      </script>\n",
              "    </div>\n",
              "  </div>\n",
              "  "
            ]
          },
          "metadata": {},
          "execution_count": 9
        }
      ]
    },
    {
      "cell_type": "code",
      "source": [
        "model = protein_seq.set_index('Accession')"
      ],
      "metadata": {
        "id": "igxTMWiX_buU"
      },
      "execution_count": null,
      "outputs": []
    },
    {
      "cell_type": "code",
      "source": [
        "model1 = protein_seq1.set_index('Accession')"
      ],
      "metadata": {
        "id": "lxWTpPhxAM0y"
      },
      "execution_count": null,
      "outputs": []
    },
    {
      "cell_type": "code",
      "source": [
        "model1.head()"
      ],
      "metadata": {
        "colab": {
          "base_uri": "https://localhost:8080/",
          "height": 238
        },
        "id": "RhwPPDR0AQwG",
        "outputId": "358073aa-17ba-4ca8-a798-757ca4b54937"
      },
      "execution_count": null,
      "outputs": [
        {
          "output_type": "execute_result",
          "data": {
            "text/plain": [
              "                                                    sequence serotype mutation\n",
              "Accession                                                                     \n",
              "ADX98962   MSLLTEVETPTRSEWECRCSDSSDPLVIAANIIGILHLILWITDRL...     H1N1     S31N\n",
              "ADH01960   MSLLTEVETPTRSEWECRCSDSSDPLIIAANIIGILHLILWITDRL...     H1N1     S31N\n",
              "ADX98794   MSLLTEVETPTRSGWECRCSDSSDPLVIAANIIGILHLILWITDRL...     H1N1     S31N\n",
              "ADN05228   MSLLTEVETPTRNEWECRCSDSSDPLVIAANIIGILHLILWITDRL...     H1N1     S31N\n",
              "ADG42155   MSLLTEVETPTRSEWECRCSDSSDPLVIAANIIGILHLILWITDRL...     H1N1     S31N"
            ],
            "text/html": [
              "\n",
              "  <div id=\"df-04f9fc2d-6a0a-42b5-b3e2-76c1a975bb75\">\n",
              "    <div class=\"colab-df-container\">\n",
              "      <div>\n",
              "<style scoped>\n",
              "    .dataframe tbody tr th:only-of-type {\n",
              "        vertical-align: middle;\n",
              "    }\n",
              "\n",
              "    .dataframe tbody tr th {\n",
              "        vertical-align: top;\n",
              "    }\n",
              "\n",
              "    .dataframe thead th {\n",
              "        text-align: right;\n",
              "    }\n",
              "</style>\n",
              "<table border=\"1\" class=\"dataframe\">\n",
              "  <thead>\n",
              "    <tr style=\"text-align: right;\">\n",
              "      <th></th>\n",
              "      <th>sequence</th>\n",
              "      <th>serotype</th>\n",
              "      <th>mutation</th>\n",
              "    </tr>\n",
              "    <tr>\n",
              "      <th>Accession</th>\n",
              "      <th></th>\n",
              "      <th></th>\n",
              "      <th></th>\n",
              "    </tr>\n",
              "  </thead>\n",
              "  <tbody>\n",
              "    <tr>\n",
              "      <th>ADX98962</th>\n",
              "      <td>MSLLTEVETPTRSEWECRCSDSSDPLVIAANIIGILHLILWITDRL...</td>\n",
              "      <td>H1N1</td>\n",
              "      <td>S31N</td>\n",
              "    </tr>\n",
              "    <tr>\n",
              "      <th>ADH01960</th>\n",
              "      <td>MSLLTEVETPTRSEWECRCSDSSDPLIIAANIIGILHLILWITDRL...</td>\n",
              "      <td>H1N1</td>\n",
              "      <td>S31N</td>\n",
              "    </tr>\n",
              "    <tr>\n",
              "      <th>ADX98794</th>\n",
              "      <td>MSLLTEVETPTRSGWECRCSDSSDPLVIAANIIGILHLILWITDRL...</td>\n",
              "      <td>H1N1</td>\n",
              "      <td>S31N</td>\n",
              "    </tr>\n",
              "    <tr>\n",
              "      <th>ADN05228</th>\n",
              "      <td>MSLLTEVETPTRNEWECRCSDSSDPLVIAANIIGILHLILWITDRL...</td>\n",
              "      <td>H1N1</td>\n",
              "      <td>S31N</td>\n",
              "    </tr>\n",
              "    <tr>\n",
              "      <th>ADG42155</th>\n",
              "      <td>MSLLTEVETPTRSEWECRCSDSSDPLVIAANIIGILHLILWITDRL...</td>\n",
              "      <td>H1N1</td>\n",
              "      <td>S31N</td>\n",
              "    </tr>\n",
              "  </tbody>\n",
              "</table>\n",
              "</div>\n",
              "      <button class=\"colab-df-convert\" onclick=\"convertToInteractive('df-04f9fc2d-6a0a-42b5-b3e2-76c1a975bb75')\"\n",
              "              title=\"Convert this dataframe to an interactive table.\"\n",
              "              style=\"display:none;\">\n",
              "        \n",
              "  <svg xmlns=\"http://www.w3.org/2000/svg\" height=\"24px\"viewBox=\"0 0 24 24\"\n",
              "       width=\"24px\">\n",
              "    <path d=\"M0 0h24v24H0V0z\" fill=\"none\"/>\n",
              "    <path d=\"M18.56 5.44l.94 2.06.94-2.06 2.06-.94-2.06-.94-.94-2.06-.94 2.06-2.06.94zm-11 1L8.5 8.5l.94-2.06 2.06-.94-2.06-.94L8.5 2.5l-.94 2.06-2.06.94zm10 10l.94 2.06.94-2.06 2.06-.94-2.06-.94-.94-2.06-.94 2.06-2.06.94z\"/><path d=\"M17.41 7.96l-1.37-1.37c-.4-.4-.92-.59-1.43-.59-.52 0-1.04.2-1.43.59L10.3 9.45l-7.72 7.72c-.78.78-.78 2.05 0 2.83L4 21.41c.39.39.9.59 1.41.59.51 0 1.02-.2 1.41-.59l7.78-7.78 2.81-2.81c.8-.78.8-2.07 0-2.86zM5.41 20L4 18.59l7.72-7.72 1.47 1.35L5.41 20z\"/>\n",
              "  </svg>\n",
              "      </button>\n",
              "      \n",
              "  <style>\n",
              "    .colab-df-container {\n",
              "      display:flex;\n",
              "      flex-wrap:wrap;\n",
              "      gap: 12px;\n",
              "    }\n",
              "\n",
              "    .colab-df-convert {\n",
              "      background-color: #E8F0FE;\n",
              "      border: none;\n",
              "      border-radius: 50%;\n",
              "      cursor: pointer;\n",
              "      display: none;\n",
              "      fill: #1967D2;\n",
              "      height: 32px;\n",
              "      padding: 0 0 0 0;\n",
              "      width: 32px;\n",
              "    }\n",
              "\n",
              "    .colab-df-convert:hover {\n",
              "      background-color: #E2EBFA;\n",
              "      box-shadow: 0px 1px 2px rgba(60, 64, 67, 0.3), 0px 1px 3px 1px rgba(60, 64, 67, 0.15);\n",
              "      fill: #174EA6;\n",
              "    }\n",
              "\n",
              "    [theme=dark] .colab-df-convert {\n",
              "      background-color: #3B4455;\n",
              "      fill: #D2E3FC;\n",
              "    }\n",
              "\n",
              "    [theme=dark] .colab-df-convert:hover {\n",
              "      background-color: #434B5C;\n",
              "      box-shadow: 0px 1px 3px 1px rgba(0, 0, 0, 0.15);\n",
              "      filter: drop-shadow(0px 1px 2px rgba(0, 0, 0, 0.3));\n",
              "      fill: #FFFFFF;\n",
              "    }\n",
              "  </style>\n",
              "\n",
              "      <script>\n",
              "        const buttonEl =\n",
              "          document.querySelector('#df-04f9fc2d-6a0a-42b5-b3e2-76c1a975bb75 button.colab-df-convert');\n",
              "        buttonEl.style.display =\n",
              "          google.colab.kernel.accessAllowed ? 'block' : 'none';\n",
              "\n",
              "        async function convertToInteractive(key) {\n",
              "          const element = document.querySelector('#df-04f9fc2d-6a0a-42b5-b3e2-76c1a975bb75');\n",
              "          const dataTable =\n",
              "            await google.colab.kernel.invokeFunction('convertToInteractive',\n",
              "                                                     [key], {});\n",
              "          if (!dataTable) return;\n",
              "\n",
              "          const docLinkHtml = 'Like what you see? Visit the ' +\n",
              "            '<a target=\"_blank\" href=https://colab.research.google.com/notebooks/data_table.ipynb>data table notebook</a>'\n",
              "            + ' to learn more about interactive tables.';\n",
              "          element.innerHTML = '';\n",
              "          dataTable['output_type'] = 'display_data';\n",
              "          await google.colab.output.renderOutput(dataTable, element);\n",
              "          const docLink = document.createElement('div');\n",
              "          docLink.innerHTML = docLinkHtml;\n",
              "          element.appendChild(docLink);\n",
              "        }\n",
              "      </script>\n",
              "    </div>\n",
              "  </div>\n",
              "  "
            ]
          },
          "metadata": {},
          "execution_count": 12
        }
      ]
    },
    {
      "cell_type": "code",
      "source": [
        "model.info()"
      ],
      "metadata": {
        "colab": {
          "base_uri": "https://localhost:8080/"
        },
        "id": "-Ci3w23LAo1i",
        "outputId": "98e1fc45-dcb0-42ea-ce80-512565cd6f0a"
      },
      "execution_count": null,
      "outputs": [
        {
          "output_type": "stream",
          "name": "stdout",
          "text": [
            "<class 'pandas.core.frame.DataFrame'>\n",
            "Index: 110884 entries, ADX98961 to AKM15277\n",
            "Data columns (total 3 columns):\n",
            " #   Column    Non-Null Count   Dtype \n",
            "---  ------    --------------   ----- \n",
            " 0   sequence  110884 non-null  object\n",
            " 1   serotype  110388 non-null  object\n",
            " 2   mutation  81760 non-null   object\n",
            "dtypes: object(3)\n",
            "memory usage: 3.4+ MB\n"
          ]
        }
      ]
    },
    {
      "cell_type": "code",
      "source": [
        "result=model.append(model1)"
      ],
      "metadata": {
        "id": "XfAzu4yaBDl3"
      },
      "execution_count": null,
      "outputs": []
    },
    {
      "cell_type": "code",
      "source": [
        "result.info()"
      ],
      "metadata": {
        "colab": {
          "base_uri": "https://localhost:8080/"
        },
        "id": "2_QqcuWuCdf-",
        "outputId": "9844865b-e5ad-41e5-e909-f40a4068c8e8"
      },
      "execution_count": null,
      "outputs": [
        {
          "output_type": "stream",
          "name": "stdout",
          "text": [
            "<class 'pandas.core.frame.DataFrame'>\n",
            "Index: 184973 entries, ADX98961 to BAM84169\n",
            "Data columns (total 3 columns):\n",
            " #   Column    Non-Null Count   Dtype \n",
            "---  ------    --------------   ----- \n",
            " 0   sequence  184973 non-null  object\n",
            " 1   serotype  184229 non-null  object\n",
            " 2   mutation  133685 non-null  object\n",
            "dtypes: object(3)\n",
            "memory usage: 5.6+ MB\n"
          ]
        }
      ]
    },
    {
      "cell_type": "code",
      "source": [
        "#displaying null values per coloumn\n",
        "result.isnull().sum()"
      ],
      "metadata": {
        "colab": {
          "base_uri": "https://localhost:8080/"
        },
        "id": "XhnOUIuFCzKN",
        "outputId": "793eeeba-812e-484f-b2f6-c902d491b78d"
      },
      "execution_count": null,
      "outputs": [
        {
          "output_type": "execute_result",
          "data": {
            "text/plain": [
              "sequence        0\n",
              "serotype      744\n",
              "mutation    51288\n",
              "dtype: int64"
            ]
          },
          "metadata": {},
          "execution_count": 16
        }
      ]
    },
    {
      "cell_type": "code",
      "source": [
        "# Look at classification type counts\n",
        "counts = result.mutation.value_counts()\n",
        "print(counts)"
      ],
      "metadata": {
        "colab": {
          "base_uri": "https://localhost:8080/"
        },
        "id": "5t0hzMjlEaYQ",
        "outputId": "8006f1a0-0209-4e95-e759-92f19ecb1274"
      },
      "execution_count": null,
      "outputs": [
        {
          "output_type": "stream",
          "name": "stdout",
          "text": [
            "S31N              122161\n",
            "V27A S31N          10754\n",
            "V27A                 389\n",
            "L26F S31N            210\n",
            "H9N2                  36\n",
            "A30T                  35\n",
            "L26F                  30\n",
            "A30T S31N             28\n",
            "L26F V27A S31N        27\n",
            "G34E                   9\n",
            "S31N G34E              4\n",
            "4                      2\n",
            "Name: mutation, dtype: int64\n"
          ]
        }
      ]
    },
    {
      "cell_type": "code",
      "source": [
        "#storing string value in stead of NA \n",
        "result.fillna('non mutant', inplace=True)"
      ],
      "metadata": {
        "id": "vmIZBoHrEsCN"
      },
      "execution_count": null,
      "outputs": []
    },
    {
      "cell_type": "code",
      "source": [
        "# Check NA counts again\n",
        "result.isnull().sum()"
      ],
      "metadata": {
        "colab": {
          "base_uri": "https://localhost:8080/"
        },
        "id": "Nia9ARssFKLb",
        "outputId": "370fea62-7591-456e-bee0-1f0f4b2b10da"
      },
      "execution_count": null,
      "outputs": [
        {
          "output_type": "execute_result",
          "data": {
            "text/plain": [
              "sequence    0\n",
              "serotype    0\n",
              "mutation    0\n",
              "dtype: int64"
            ]
          },
          "metadata": {},
          "execution_count": 19
        }
      ]
    },
    {
      "cell_type": "code",
      "source": [
        "nonMutant = result.loc[result['mutation'] == 'non mutant']"
      ],
      "metadata": {
        "id": "7kN-hvdfFaIq"
      },
      "execution_count": null,
      "outputs": []
    },
    {
      "cell_type": "code",
      "source": [
        "S31N = result.loc[result['mutation'] == 'S31N']"
      ],
      "metadata": {
        "id": "G4XvslBWGXT9"
      },
      "execution_count": null,
      "outputs": []
    },
    {
      "cell_type": "code",
      "source": [
        "V27AS31N = result.loc[result['mutation'] == 'V27A S31N']"
      ],
      "metadata": {
        "id": "qHd2SG40GenZ"
      },
      "execution_count": null,
      "outputs": []
    },
    {
      "cell_type": "code",
      "source": [
        "nonMutant.reset_index()"
      ],
      "metadata": {
        "colab": {
          "base_uri": "https://localhost:8080/",
          "height": 424
        },
        "id": "-AJukcPwGttb",
        "outputId": "110e1ec2-2c9f-4911-bdd2-39080e27ac1c"
      },
      "execution_count": null,
      "outputs": [
        {
          "output_type": "execute_result",
          "data": {
            "text/plain": [
              "      Accession                                           sequence serotype  \\\n",
              "0      AGB13121  LVCATCEQIADSQHRSHRQMATTTNPLIRHENRMVLASTTEKAMEQ...  unknown   \n",
              "1      AGB13126  MSLLTEVETYVLSIIPSGPLKAEIAQRLESVFAGKNTDLEALMEWL...     H1N1   \n",
              "2      AHZ21123  MSLLTEVETYVLSIVPSGPLKAEIAQRLEDVFAGKNTDLEALMEWL...    H11N2   \n",
              "3      AHZ21099  MSLLTEVETYVLSIVPSGPLKAEIAQRLEDVFAGKNTDLEALMEWL...    H11N2   \n",
              "4      AHZ21111  MSLLTEVETYVLSIVPSGPLKAEIAQRLEDVFAGKNTDLEALMEWL...    H11N2   \n",
              "...         ...                                                ...      ...   \n",
              "51283  AKM15278  MSLLTEVETPTRNGWECKCNGSSDPLVIAASIIGILHLILWILDRL...     H3N6   \n",
              "51284  BAM84136  MSLLTEVETPTRNEWECRCSDSSDPLIVAASIIGILHLILWILDRL...     H5N1   \n",
              "51285  BAM84147  MSLLTEVETPTRNEWECRCSDSSDPLIVAASIIGILHLILWILDRL...     H5N1   \n",
              "51286  BAM84158  MSLLTEVETPTRNEWECRCSDSSDPLIVAASIIGILHLILWILDRL...     H5N1   \n",
              "51287  BAM84169  MSLLTEVETPTRNEWECRCSDSSDPLIVAASIIGILHLILWILDRL...     H5N1   \n",
              "\n",
              "         mutation  \n",
              "0      non mutant  \n",
              "1      non mutant  \n",
              "2      non mutant  \n",
              "3      non mutant  \n",
              "4      non mutant  \n",
              "...           ...  \n",
              "51283  non mutant  \n",
              "51284  non mutant  \n",
              "51285  non mutant  \n",
              "51286  non mutant  \n",
              "51287  non mutant  \n",
              "\n",
              "[51288 rows x 4 columns]"
            ],
            "text/html": [
              "\n",
              "  <div id=\"df-b588f6bf-7fc5-4915-b09b-c1039fb236cf\">\n",
              "    <div class=\"colab-df-container\">\n",
              "      <div>\n",
              "<style scoped>\n",
              "    .dataframe tbody tr th:only-of-type {\n",
              "        vertical-align: middle;\n",
              "    }\n",
              "\n",
              "    .dataframe tbody tr th {\n",
              "        vertical-align: top;\n",
              "    }\n",
              "\n",
              "    .dataframe thead th {\n",
              "        text-align: right;\n",
              "    }\n",
              "</style>\n",
              "<table border=\"1\" class=\"dataframe\">\n",
              "  <thead>\n",
              "    <tr style=\"text-align: right;\">\n",
              "      <th></th>\n",
              "      <th>Accession</th>\n",
              "      <th>sequence</th>\n",
              "      <th>serotype</th>\n",
              "      <th>mutation</th>\n",
              "    </tr>\n",
              "  </thead>\n",
              "  <tbody>\n",
              "    <tr>\n",
              "      <th>0</th>\n",
              "      <td>AGB13121</td>\n",
              "      <td>LVCATCEQIADSQHRSHRQMATTTNPLIRHENRMVLASTTEKAMEQ...</td>\n",
              "      <td>unknown</td>\n",
              "      <td>non mutant</td>\n",
              "    </tr>\n",
              "    <tr>\n",
              "      <th>1</th>\n",
              "      <td>AGB13126</td>\n",
              "      <td>MSLLTEVETYVLSIIPSGPLKAEIAQRLESVFAGKNTDLEALMEWL...</td>\n",
              "      <td>H1N1</td>\n",
              "      <td>non mutant</td>\n",
              "    </tr>\n",
              "    <tr>\n",
              "      <th>2</th>\n",
              "      <td>AHZ21123</td>\n",
              "      <td>MSLLTEVETYVLSIVPSGPLKAEIAQRLEDVFAGKNTDLEALMEWL...</td>\n",
              "      <td>H11N2</td>\n",
              "      <td>non mutant</td>\n",
              "    </tr>\n",
              "    <tr>\n",
              "      <th>3</th>\n",
              "      <td>AHZ21099</td>\n",
              "      <td>MSLLTEVETYVLSIVPSGPLKAEIAQRLEDVFAGKNTDLEALMEWL...</td>\n",
              "      <td>H11N2</td>\n",
              "      <td>non mutant</td>\n",
              "    </tr>\n",
              "    <tr>\n",
              "      <th>4</th>\n",
              "      <td>AHZ21111</td>\n",
              "      <td>MSLLTEVETYVLSIVPSGPLKAEIAQRLEDVFAGKNTDLEALMEWL...</td>\n",
              "      <td>H11N2</td>\n",
              "      <td>non mutant</td>\n",
              "    </tr>\n",
              "    <tr>\n",
              "      <th>...</th>\n",
              "      <td>...</td>\n",
              "      <td>...</td>\n",
              "      <td>...</td>\n",
              "      <td>...</td>\n",
              "    </tr>\n",
              "    <tr>\n",
              "      <th>51283</th>\n",
              "      <td>AKM15278</td>\n",
              "      <td>MSLLTEVETPTRNGWECKCNGSSDPLVIAASIIGILHLILWILDRL...</td>\n",
              "      <td>H3N6</td>\n",
              "      <td>non mutant</td>\n",
              "    </tr>\n",
              "    <tr>\n",
              "      <th>51284</th>\n",
              "      <td>BAM84136</td>\n",
              "      <td>MSLLTEVETPTRNEWECRCSDSSDPLIVAASIIGILHLILWILDRL...</td>\n",
              "      <td>H5N1</td>\n",
              "      <td>non mutant</td>\n",
              "    </tr>\n",
              "    <tr>\n",
              "      <th>51285</th>\n",
              "      <td>BAM84147</td>\n",
              "      <td>MSLLTEVETPTRNEWECRCSDSSDPLIVAASIIGILHLILWILDRL...</td>\n",
              "      <td>H5N1</td>\n",
              "      <td>non mutant</td>\n",
              "    </tr>\n",
              "    <tr>\n",
              "      <th>51286</th>\n",
              "      <td>BAM84158</td>\n",
              "      <td>MSLLTEVETPTRNEWECRCSDSSDPLIVAASIIGILHLILWILDRL...</td>\n",
              "      <td>H5N1</td>\n",
              "      <td>non mutant</td>\n",
              "    </tr>\n",
              "    <tr>\n",
              "      <th>51287</th>\n",
              "      <td>BAM84169</td>\n",
              "      <td>MSLLTEVETPTRNEWECRCSDSSDPLIVAASIIGILHLILWILDRL...</td>\n",
              "      <td>H5N1</td>\n",
              "      <td>non mutant</td>\n",
              "    </tr>\n",
              "  </tbody>\n",
              "</table>\n",
              "<p>51288 rows × 4 columns</p>\n",
              "</div>\n",
              "      <button class=\"colab-df-convert\" onclick=\"convertToInteractive('df-b588f6bf-7fc5-4915-b09b-c1039fb236cf')\"\n",
              "              title=\"Convert this dataframe to an interactive table.\"\n",
              "              style=\"display:none;\">\n",
              "        \n",
              "  <svg xmlns=\"http://www.w3.org/2000/svg\" height=\"24px\"viewBox=\"0 0 24 24\"\n",
              "       width=\"24px\">\n",
              "    <path d=\"M0 0h24v24H0V0z\" fill=\"none\"/>\n",
              "    <path d=\"M18.56 5.44l.94 2.06.94-2.06 2.06-.94-2.06-.94-.94-2.06-.94 2.06-2.06.94zm-11 1L8.5 8.5l.94-2.06 2.06-.94-2.06-.94L8.5 2.5l-.94 2.06-2.06.94zm10 10l.94 2.06.94-2.06 2.06-.94-2.06-.94-.94-2.06-.94 2.06-2.06.94z\"/><path d=\"M17.41 7.96l-1.37-1.37c-.4-.4-.92-.59-1.43-.59-.52 0-1.04.2-1.43.59L10.3 9.45l-7.72 7.72c-.78.78-.78 2.05 0 2.83L4 21.41c.39.39.9.59 1.41.59.51 0 1.02-.2 1.41-.59l7.78-7.78 2.81-2.81c.8-.78.8-2.07 0-2.86zM5.41 20L4 18.59l7.72-7.72 1.47 1.35L5.41 20z\"/>\n",
              "  </svg>\n",
              "      </button>\n",
              "      \n",
              "  <style>\n",
              "    .colab-df-container {\n",
              "      display:flex;\n",
              "      flex-wrap:wrap;\n",
              "      gap: 12px;\n",
              "    }\n",
              "\n",
              "    .colab-df-convert {\n",
              "      background-color: #E8F0FE;\n",
              "      border: none;\n",
              "      border-radius: 50%;\n",
              "      cursor: pointer;\n",
              "      display: none;\n",
              "      fill: #1967D2;\n",
              "      height: 32px;\n",
              "      padding: 0 0 0 0;\n",
              "      width: 32px;\n",
              "    }\n",
              "\n",
              "    .colab-df-convert:hover {\n",
              "      background-color: #E2EBFA;\n",
              "      box-shadow: 0px 1px 2px rgba(60, 64, 67, 0.3), 0px 1px 3px 1px rgba(60, 64, 67, 0.15);\n",
              "      fill: #174EA6;\n",
              "    }\n",
              "\n",
              "    [theme=dark] .colab-df-convert {\n",
              "      background-color: #3B4455;\n",
              "      fill: #D2E3FC;\n",
              "    }\n",
              "\n",
              "    [theme=dark] .colab-df-convert:hover {\n",
              "      background-color: #434B5C;\n",
              "      box-shadow: 0px 1px 3px 1px rgba(0, 0, 0, 0.15);\n",
              "      filter: drop-shadow(0px 1px 2px rgba(0, 0, 0, 0.3));\n",
              "      fill: #FFFFFF;\n",
              "    }\n",
              "  </style>\n",
              "\n",
              "      <script>\n",
              "        const buttonEl =\n",
              "          document.querySelector('#df-b588f6bf-7fc5-4915-b09b-c1039fb236cf button.colab-df-convert');\n",
              "        buttonEl.style.display =\n",
              "          google.colab.kernel.accessAllowed ? 'block' : 'none';\n",
              "\n",
              "        async function convertToInteractive(key) {\n",
              "          const element = document.querySelector('#df-b588f6bf-7fc5-4915-b09b-c1039fb236cf');\n",
              "          const dataTable =\n",
              "            await google.colab.kernel.invokeFunction('convertToInteractive',\n",
              "                                                     [key], {});\n",
              "          if (!dataTable) return;\n",
              "\n",
              "          const docLinkHtml = 'Like what you see? Visit the ' +\n",
              "            '<a target=\"_blank\" href=https://colab.research.google.com/notebooks/data_table.ipynb>data table notebook</a>'\n",
              "            + ' to learn more about interactive tables.';\n",
              "          element.innerHTML = '';\n",
              "          dataTable['output_type'] = 'display_data';\n",
              "          await google.colab.output.renderOutput(dataTable, element);\n",
              "          const docLink = document.createElement('div');\n",
              "          docLink.innerHTML = docLinkHtml;\n",
              "          element.appendChild(docLink);\n",
              "        }\n",
              "      </script>\n",
              "    </div>\n",
              "  </div>\n",
              "  "
            ]
          },
          "metadata": {},
          "execution_count": 23
        }
      ]
    },
    {
      "cell_type": "code",
      "source": [
        "nonMutatntpart1 = nonMutant[0:5377]"
      ],
      "metadata": {
        "id": "echy2dAQHLOA"
      },
      "execution_count": null,
      "outputs": []
    },
    {
      "cell_type": "code",
      "source": [
        "nonMutatntpart2 = nonMutant[40000:45377]"
      ],
      "metadata": {
        "id": "ih1NFof_HtGN"
      },
      "execution_count": null,
      "outputs": []
    },
    {
      "cell_type": "code",
      "source": [
        "balancenonMutant = nonMutatntpart1.append(nonMutatntpart2)"
      ],
      "metadata": {
        "id": "XAxoEV8-H8qt"
      },
      "execution_count": null,
      "outputs": []
    },
    {
      "cell_type": "code",
      "source": [
        "# Look at classification type counts\n",
        "counts = balancenonMutant.mutation.value_counts()\n",
        "print(counts)"
      ],
      "metadata": {
        "colab": {
          "base_uri": "https://localhost:8080/"
        },
        "id": "etTbBoPAIPdV",
        "outputId": "519d9c09-3d24-4eef-899c-c85791b02a68"
      },
      "execution_count": null,
      "outputs": [
        {
          "output_type": "stream",
          "name": "stdout",
          "text": [
            "non mutant    10754\n",
            "Name: mutation, dtype: int64\n"
          ]
        }
      ]
    },
    {
      "cell_type": "code",
      "source": [
        "S31N.reset_index()"
      ],
      "metadata": {
        "colab": {
          "base_uri": "https://localhost:8080/",
          "height": 424
        },
        "id": "VYx1-4uKIfrx",
        "outputId": "ad21250a-68bc-420c-900e-0de1a252920d"
      },
      "execution_count": null,
      "outputs": [
        {
          "output_type": "execute_result",
          "data": {
            "text/plain": [
              "       Accession                                           sequence serotype  \\\n",
              "0       ADX98961  MSLLTEVETYVLSIIPSGPLKAEIAQRLESVFAGKNTDLEALMEWL...     H1N1   \n",
              "1       ADH01959  MSLLTEVETYVLSIIPSGPLKAEIAQRLESVFAGKNTDLEALMEWL...     H1N1   \n",
              "2       ADX98793  MSLLTEVETYVLSIIPSGPLKAEIAQRLESVFAGKNTDLEALMEWL...     H1N1   \n",
              "3       ADN05227  MSLLTEVETYVLSIIPSGPLKAEIAQRLESVFAGKNTDLEALMEWL...     H1N1   \n",
              "4       ADG42154  MSLLTEVETYVLSIIPSGPLKAEIAQRLESVFAGKNTDLEALMEWL...     H1N1   \n",
              "...          ...                                                ...      ...   \n",
              "122156  ALT19481  MSLLTEVETPTRTEWECRCSDSSDPLVVAANIIGILHLILWILDRL...     H5N2   \n",
              "122157  QGH81245  MSLLTEVETLTRTGWECNCSGSSDPLVVAANIIGILHLILWILDRL...     H7N9   \n",
              "122158  AFK13907  MSLLTEVETPIRNEWGCRCNDSSDPLVVAANIIGILHLILWILDRL...     H3N2   \n",
              "122159  AFK13911  MSLLTEVETPIRNEWGCRCNDSSDPLVVAANIIGILHLILWILDRL...     H3N2   \n",
              "122160  AFK13923  MSLLTEVETPIRNEWGCRCNDSSDPLVVAANIIGILHLILWILDRL...     H3N2   \n",
              "\n",
              "       mutation  \n",
              "0          S31N  \n",
              "1          S31N  \n",
              "2          S31N  \n",
              "3          S31N  \n",
              "4          S31N  \n",
              "...         ...  \n",
              "122156     S31N  \n",
              "122157     S31N  \n",
              "122158     S31N  \n",
              "122159     S31N  \n",
              "122160     S31N  \n",
              "\n",
              "[122161 rows x 4 columns]"
            ],
            "text/html": [
              "\n",
              "  <div id=\"df-9635793b-ff26-49fa-a1e6-fa3738441cbd\">\n",
              "    <div class=\"colab-df-container\">\n",
              "      <div>\n",
              "<style scoped>\n",
              "    .dataframe tbody tr th:only-of-type {\n",
              "        vertical-align: middle;\n",
              "    }\n",
              "\n",
              "    .dataframe tbody tr th {\n",
              "        vertical-align: top;\n",
              "    }\n",
              "\n",
              "    .dataframe thead th {\n",
              "        text-align: right;\n",
              "    }\n",
              "</style>\n",
              "<table border=\"1\" class=\"dataframe\">\n",
              "  <thead>\n",
              "    <tr style=\"text-align: right;\">\n",
              "      <th></th>\n",
              "      <th>Accession</th>\n",
              "      <th>sequence</th>\n",
              "      <th>serotype</th>\n",
              "      <th>mutation</th>\n",
              "    </tr>\n",
              "  </thead>\n",
              "  <tbody>\n",
              "    <tr>\n",
              "      <th>0</th>\n",
              "      <td>ADX98961</td>\n",
              "      <td>MSLLTEVETYVLSIIPSGPLKAEIAQRLESVFAGKNTDLEALMEWL...</td>\n",
              "      <td>H1N1</td>\n",
              "      <td>S31N</td>\n",
              "    </tr>\n",
              "    <tr>\n",
              "      <th>1</th>\n",
              "      <td>ADH01959</td>\n",
              "      <td>MSLLTEVETYVLSIIPSGPLKAEIAQRLESVFAGKNTDLEALMEWL...</td>\n",
              "      <td>H1N1</td>\n",
              "      <td>S31N</td>\n",
              "    </tr>\n",
              "    <tr>\n",
              "      <th>2</th>\n",
              "      <td>ADX98793</td>\n",
              "      <td>MSLLTEVETYVLSIIPSGPLKAEIAQRLESVFAGKNTDLEALMEWL...</td>\n",
              "      <td>H1N1</td>\n",
              "      <td>S31N</td>\n",
              "    </tr>\n",
              "    <tr>\n",
              "      <th>3</th>\n",
              "      <td>ADN05227</td>\n",
              "      <td>MSLLTEVETYVLSIIPSGPLKAEIAQRLESVFAGKNTDLEALMEWL...</td>\n",
              "      <td>H1N1</td>\n",
              "      <td>S31N</td>\n",
              "    </tr>\n",
              "    <tr>\n",
              "      <th>4</th>\n",
              "      <td>ADG42154</td>\n",
              "      <td>MSLLTEVETYVLSIIPSGPLKAEIAQRLESVFAGKNTDLEALMEWL...</td>\n",
              "      <td>H1N1</td>\n",
              "      <td>S31N</td>\n",
              "    </tr>\n",
              "    <tr>\n",
              "      <th>...</th>\n",
              "      <td>...</td>\n",
              "      <td>...</td>\n",
              "      <td>...</td>\n",
              "      <td>...</td>\n",
              "    </tr>\n",
              "    <tr>\n",
              "      <th>122156</th>\n",
              "      <td>ALT19481</td>\n",
              "      <td>MSLLTEVETPTRTEWECRCSDSSDPLVVAANIIGILHLILWILDRL...</td>\n",
              "      <td>H5N2</td>\n",
              "      <td>S31N</td>\n",
              "    </tr>\n",
              "    <tr>\n",
              "      <th>122157</th>\n",
              "      <td>QGH81245</td>\n",
              "      <td>MSLLTEVETLTRTGWECNCSGSSDPLVVAANIIGILHLILWILDRL...</td>\n",
              "      <td>H7N9</td>\n",
              "      <td>S31N</td>\n",
              "    </tr>\n",
              "    <tr>\n",
              "      <th>122158</th>\n",
              "      <td>AFK13907</td>\n",
              "      <td>MSLLTEVETPIRNEWGCRCNDSSDPLVVAANIIGILHLILWILDRL...</td>\n",
              "      <td>H3N2</td>\n",
              "      <td>S31N</td>\n",
              "    </tr>\n",
              "    <tr>\n",
              "      <th>122159</th>\n",
              "      <td>AFK13911</td>\n",
              "      <td>MSLLTEVETPIRNEWGCRCNDSSDPLVVAANIIGILHLILWILDRL...</td>\n",
              "      <td>H3N2</td>\n",
              "      <td>S31N</td>\n",
              "    </tr>\n",
              "    <tr>\n",
              "      <th>122160</th>\n",
              "      <td>AFK13923</td>\n",
              "      <td>MSLLTEVETPIRNEWGCRCNDSSDPLVVAANIIGILHLILWILDRL...</td>\n",
              "      <td>H3N2</td>\n",
              "      <td>S31N</td>\n",
              "    </tr>\n",
              "  </tbody>\n",
              "</table>\n",
              "<p>122161 rows × 4 columns</p>\n",
              "</div>\n",
              "      <button class=\"colab-df-convert\" onclick=\"convertToInteractive('df-9635793b-ff26-49fa-a1e6-fa3738441cbd')\"\n",
              "              title=\"Convert this dataframe to an interactive table.\"\n",
              "              style=\"display:none;\">\n",
              "        \n",
              "  <svg xmlns=\"http://www.w3.org/2000/svg\" height=\"24px\"viewBox=\"0 0 24 24\"\n",
              "       width=\"24px\">\n",
              "    <path d=\"M0 0h24v24H0V0z\" fill=\"none\"/>\n",
              "    <path d=\"M18.56 5.44l.94 2.06.94-2.06 2.06-.94-2.06-.94-.94-2.06-.94 2.06-2.06.94zm-11 1L8.5 8.5l.94-2.06 2.06-.94-2.06-.94L8.5 2.5l-.94 2.06-2.06.94zm10 10l.94 2.06.94-2.06 2.06-.94-2.06-.94-.94-2.06-.94 2.06-2.06.94z\"/><path d=\"M17.41 7.96l-1.37-1.37c-.4-.4-.92-.59-1.43-.59-.52 0-1.04.2-1.43.59L10.3 9.45l-7.72 7.72c-.78.78-.78 2.05 0 2.83L4 21.41c.39.39.9.59 1.41.59.51 0 1.02-.2 1.41-.59l7.78-7.78 2.81-2.81c.8-.78.8-2.07 0-2.86zM5.41 20L4 18.59l7.72-7.72 1.47 1.35L5.41 20z\"/>\n",
              "  </svg>\n",
              "      </button>\n",
              "      \n",
              "  <style>\n",
              "    .colab-df-container {\n",
              "      display:flex;\n",
              "      flex-wrap:wrap;\n",
              "      gap: 12px;\n",
              "    }\n",
              "\n",
              "    .colab-df-convert {\n",
              "      background-color: #E8F0FE;\n",
              "      border: none;\n",
              "      border-radius: 50%;\n",
              "      cursor: pointer;\n",
              "      display: none;\n",
              "      fill: #1967D2;\n",
              "      height: 32px;\n",
              "      padding: 0 0 0 0;\n",
              "      width: 32px;\n",
              "    }\n",
              "\n",
              "    .colab-df-convert:hover {\n",
              "      background-color: #E2EBFA;\n",
              "      box-shadow: 0px 1px 2px rgba(60, 64, 67, 0.3), 0px 1px 3px 1px rgba(60, 64, 67, 0.15);\n",
              "      fill: #174EA6;\n",
              "    }\n",
              "\n",
              "    [theme=dark] .colab-df-convert {\n",
              "      background-color: #3B4455;\n",
              "      fill: #D2E3FC;\n",
              "    }\n",
              "\n",
              "    [theme=dark] .colab-df-convert:hover {\n",
              "      background-color: #434B5C;\n",
              "      box-shadow: 0px 1px 3px 1px rgba(0, 0, 0, 0.15);\n",
              "      filter: drop-shadow(0px 1px 2px rgba(0, 0, 0, 0.3));\n",
              "      fill: #FFFFFF;\n",
              "    }\n",
              "  </style>\n",
              "\n",
              "      <script>\n",
              "        const buttonEl =\n",
              "          document.querySelector('#df-9635793b-ff26-49fa-a1e6-fa3738441cbd button.colab-df-convert');\n",
              "        buttonEl.style.display =\n",
              "          google.colab.kernel.accessAllowed ? 'block' : 'none';\n",
              "\n",
              "        async function convertToInteractive(key) {\n",
              "          const element = document.querySelector('#df-9635793b-ff26-49fa-a1e6-fa3738441cbd');\n",
              "          const dataTable =\n",
              "            await google.colab.kernel.invokeFunction('convertToInteractive',\n",
              "                                                     [key], {});\n",
              "          if (!dataTable) return;\n",
              "\n",
              "          const docLinkHtml = 'Like what you see? Visit the ' +\n",
              "            '<a target=\"_blank\" href=https://colab.research.google.com/notebooks/data_table.ipynb>data table notebook</a>'\n",
              "            + ' to learn more about interactive tables.';\n",
              "          element.innerHTML = '';\n",
              "          dataTable['output_type'] = 'display_data';\n",
              "          await google.colab.output.renderOutput(dataTable, element);\n",
              "          const docLink = document.createElement('div');\n",
              "          docLink.innerHTML = docLinkHtml;\n",
              "          element.appendChild(docLink);\n",
              "        }\n",
              "      </script>\n",
              "    </div>\n",
              "  </div>\n",
              "  "
            ]
          },
          "metadata": {},
          "execution_count": 28
        }
      ]
    },
    {
      "cell_type": "code",
      "source": [
        "s31none = S31N[0:5377]"
      ],
      "metadata": {
        "id": "6n7RUrX2I0ZB"
      },
      "execution_count": null,
      "outputs": []
    },
    {
      "cell_type": "code",
      "source": [
        "s31two = S31N[40000:45377]"
      ],
      "metadata": {
        "id": "3nw4SNqFJFV7"
      },
      "execution_count": null,
      "outputs": []
    },
    {
      "cell_type": "code",
      "source": [
        "balanceS31N = s31none.append(s31two)"
      ],
      "metadata": {
        "id": "xJwcyfCUJRmd"
      },
      "execution_count": null,
      "outputs": []
    },
    {
      "cell_type": "code",
      "source": [
        "# Look at classification type counts\n",
        "counts = balanceS31N.mutation.value_counts()\n",
        "print(counts)"
      ],
      "metadata": {
        "colab": {
          "base_uri": "https://localhost:8080/"
        },
        "id": "itbyUTNqJfXO",
        "outputId": "cdde47b1-0d9b-414c-c257-77421c01e194"
      },
      "execution_count": null,
      "outputs": [
        {
          "output_type": "stream",
          "name": "stdout",
          "text": [
            "S31N    10754\n",
            "Name: mutation, dtype: int64\n"
          ]
        }
      ]
    },
    {
      "cell_type": "code",
      "source": [
        "balanceData=balancenonMutant.append(balanceS31N)"
      ],
      "metadata": {
        "id": "ldV82iqGKgHI"
      },
      "execution_count": null,
      "outputs": []
    },
    {
      "cell_type": "code",
      "source": [
        "balancedData=balanceData.append(V27AS31N)"
      ],
      "metadata": {
        "id": "TDFYkGQoLM2b"
      },
      "execution_count": null,
      "outputs": []
    },
    {
      "cell_type": "code",
      "source": [
        "# Look at classification type counts\n",
        "counts = balancedData.mutation.value_counts()\n",
        "print(counts)"
      ],
      "metadata": {
        "colab": {
          "base_uri": "https://localhost:8080/"
        },
        "id": "ltlrer4DLrbb",
        "outputId": "fa0df028-abd3-405c-93e6-72960f829193"
      },
      "execution_count": null,
      "outputs": [
        {
          "output_type": "stream",
          "name": "stdout",
          "text": [
            "non mutant    10754\n",
            "S31N          10754\n",
            "V27A S31N     10754\n",
            "Name: mutation, dtype: int64\n"
          ]
        }
      ]
    },
    {
      "cell_type": "code",
      "source": [
        "#value count of each type of muation\n",
        "print(counts['non mutant'])\n",
        "print(counts['S31N'])\n",
        "print(counts['V27A S31N'])\n",
        "# print(counts['E627K'])\n",
        "# print(counts['V27A'])\n",
        "# print(counts['A30T'])\n",
        "# print(counts['N294S'])\n",
        "# print(counts['L26F'])"
      ],
      "metadata": {
        "colab": {
          "base_uri": "https://localhost:8080/"
        },
        "id": "CB1kaaUCL3bc",
        "outputId": "47d8590b-7bdb-4396-c8d1-3655a4f024b6"
      },
      "execution_count": null,
      "outputs": [
        {
          "output_type": "stream",
          "name": "stdout",
          "text": [
            "10754\n",
            "10754\n",
            "10754\n"
          ]
        }
      ]
    },
    {
      "cell_type": "code",
      "source": [
        "max_length=balancedData[\"sequence\"].str.len().max()\n",
        "max_length"
      ],
      "metadata": {
        "colab": {
          "base_uri": "https://localhost:8080/"
        },
        "id": "VkD1-PHjMA_6",
        "outputId": "435ac26f-5e68-46dd-f642-941cb01a7f0b"
      },
      "execution_count": null,
      "outputs": [
        {
          "output_type": "execute_result",
          "data": {
            "text/plain": [
              "252"
            ]
          },
          "metadata": {},
          "execution_count": 38
        }
      ]
    },
    {
      "cell_type": "code",
      "source": [
        "# Get classification types where counts are over 1000\n",
        "#types = np.asarray(counts[(counts > 1000)].index)\n",
        "types=['non mutant'\n",
        ",'S31N','V27A S31N']\n",
        "#,'E627K'\n",
        "#,'V27A'\n",
        "#,'A30T'\n",
        "#,'N294S'\n",
        "#,'L26F'\n",
        "# Filter dataset's records for classification types > 1000\n",
        "data = balancedData[balancedData.mutation.isin(types)]\n",
        "\n",
        "\n",
        "print(types)\n",
        "print('%d is the number of records in the final filtered dataset' %data.shape[0])"
      ],
      "metadata": {
        "colab": {
          "base_uri": "https://localhost:8080/"
        },
        "id": "IvY8SQWnMQX7",
        "outputId": "a3ce0a5e-fe83-44d4-9534-5624ebd70c02"
      },
      "execution_count": null,
      "outputs": [
        {
          "output_type": "stream",
          "name": "stdout",
          "text": [
            "['non mutant', 'S31N', 'V27A S31N']\n",
            "32262 is the number of records in the final filtered dataset\n"
          ]
        }
      ]
    },
    {
      "cell_type": "code",
      "source": [
        "train=data\n",
        "a=train.mutation.unique()\n",
        "l=len(train.mutation.unique())\n",
        "print(a)"
      ],
      "metadata": {
        "colab": {
          "base_uri": "https://localhost:8080/"
        },
        "id": "rh5Egk-nMdxl",
        "outputId": "20267e29-907b-4c64-d734-21f8467a775c"
      },
      "execution_count": null,
      "outputs": [
        {
          "output_type": "stream",
          "name": "stdout",
          "text": [
            "['non mutant' 'S31N' 'V27A S31N']\n"
          ]
        }
      ]
    },
    {
      "cell_type": "code",
      "source": [
        "for i in range (l):\n",
        "    train.mutation = train.mutation.replace(a[i], i)"
      ],
      "metadata": {
        "id": "5ZyQcEP8MjNo"
      },
      "execution_count": null,
      "outputs": []
    },
    {
      "cell_type": "code",
      "source": [
        "train.mutation.head()"
      ],
      "metadata": {
        "colab": {
          "base_uri": "https://localhost:8080/"
        },
        "id": "6dVJLQ4bMph4",
        "outputId": "1e87f386-1eb0-4784-bbdb-bba5850025f6"
      },
      "execution_count": null,
      "outputs": [
        {
          "output_type": "execute_result",
          "data": {
            "text/plain": [
              "Accession\n",
              "AGB13121    0\n",
              "AGB13126    0\n",
              "AHZ21123    0\n",
              "AHZ21099    0\n",
              "AHZ21111    0\n",
              "Name: mutation, dtype: int64"
            ]
          },
          "metadata": {},
          "execution_count": 42
        }
      ]
    },
    {
      "cell_type": "code",
      "source": [
        "train.mutation.value_counts()"
      ],
      "metadata": {
        "colab": {
          "base_uri": "https://localhost:8080/"
        },
        "id": "H2gSv4VtMvvk",
        "outputId": "4fcff48a-b38b-43a9-9479-52a19a442d35"
      },
      "execution_count": null,
      "outputs": [
        {
          "output_type": "execute_result",
          "data": {
            "text/plain": [
              "0    10754\n",
              "1    10754\n",
              "2    10754\n",
              "Name: mutation, dtype: int64"
            ]
          },
          "metadata": {},
          "execution_count": 43
        }
      ]
    },
    {
      "cell_type": "code",
      "source": [
        "#df = train\n",
        "#df.mutation = df.mutation.astype(int)\n",
        "finalData = train\n",
        "finalData.mutation = finalData.mutation.astype(int)"
      ],
      "metadata": {
        "id": "G6t29tXBOY_J"
      },
      "execution_count": null,
      "outputs": []
    },
    {
      "cell_type": "code",
      "source": [
        "from sklearn.model_selection import train_test_split\n",
        "from sklearn.preprocessing import LabelBinarizer\n",
        "from keras.preprocessing.text import Tokenizer\n",
        "from keras.preprocessing.sequence import pad_sequences\n",
        "from sklearn.feature_extraction.text import TfidfVectorizer\n",
        "from keras.layers import SpatialDropout1D\n",
        "from tensorflow.keras.utils import to_categorical\n",
        "from sklearn.metrics import classification_report\n",
        "from sklearn.metrics import roc_auc_score\n",
        "from sklearn.metrics import roc_curve\n",
        "from sklearn.metrics import precision_recall_curve\n",
        "from sklearn.model_selection import GridSearchCV\n",
        "from keras.models import Sequential\n",
        "from keras.layers import Dense\n",
        "from keras.layers import LSTM\n",
        "from keras.layers import Dropout\n",
        "from keras.layers import Bidirectional\n",
        "from keras.layers import GlobalMaxPool1D\n",
        "from tensorflow.keras.utils import plot_model\n",
        "from keras.layers.embeddings import Embedding\n",
        "from keras.preprocessing import sequence\n",
        "from keras.callbacks import EarlyStopping\n",
        "from sklearn.feature_selection import RFE\n",
        "import re"
      ],
      "metadata": {
        "id": "06OYl2tNObys"
      },
      "execution_count": null,
      "outputs": []
    },
    {
      "cell_type": "code",
      "source": [
        "# The maximum number of words to be used. (most frequent)\n",
        "MAX_NB_WORDS = 50000\n",
        "# Max number of words in each complaint.\n",
        "MAX_SEQUENCE_LENGTH = 250\n",
        "# This is fixed.\n",
        "EMBEDDING_DIM = 100\n",
        "tokenizer = Tokenizer(num_words=MAX_NB_WORDS, filters='!\"#$%&()*+,-./:;<=>?@[\\]^_`{|}~।', lower=False)\n",
        "tokenizer.fit_on_texts(finalData.sequence.values)\n",
        "word_index = tokenizer.word_index\n",
        "print('Found %s unique tokens.' % len(word_index))"
      ],
      "metadata": {
        "colab": {
          "base_uri": "https://localhost:8080/"
        },
        "id": "7WO4E4arOiVS",
        "outputId": "427ff4bc-65f4-4ff4-be53-b8f8d961bf0e"
      },
      "execution_count": null,
      "outputs": [
        {
          "output_type": "stream",
          "name": "stdout",
          "text": [
            "Found 3332 unique tokens.\n"
          ]
        }
      ]
    },
    {
      "cell_type": "code",
      "source": [
        "X = tokenizer.texts_to_sequences(finalData.sequence.values)\n",
        "X = pad_sequences(X, maxlen=MAX_SEQUENCE_LENGTH)\n",
        "print('Shape of data tensor:', X.shape)"
      ],
      "metadata": {
        "colab": {
          "base_uri": "https://localhost:8080/"
        },
        "id": "XdaYUIUkOnCJ",
        "outputId": "d857e857-4a51-401f-b356-9bfa6c9e5514"
      },
      "execution_count": null,
      "outputs": [
        {
          "output_type": "stream",
          "name": "stdout",
          "text": [
            "Shape of data tensor: (32262, 250)\n"
          ]
        }
      ]
    },
    {
      "cell_type": "code",
      "source": [
        "Y = pd.get_dummies(finalData.mutation).values\n",
        "print('Shape of label tensor:', Y.shape)"
      ],
      "metadata": {
        "colab": {
          "base_uri": "https://localhost:8080/"
        },
        "id": "BjzjfgonOti6",
        "outputId": "c03afaa7-25d7-4a4b-ba21-b63220f61491"
      },
      "execution_count": null,
      "outputs": [
        {
          "output_type": "stream",
          "name": "stdout",
          "text": [
            "Shape of label tensor: (32262, 3)\n"
          ]
        }
      ]
    },
    {
      "cell_type": "code",
      "source": [
        "train_features, test_features, train_labels, test_labels = train_test_split(X, Y, test_size=.10)"
      ],
      "metadata": {
        "id": "BkCyWHstOzuu"
      },
      "execution_count": null,
      "outputs": []
    },
    {
      "cell_type": "code",
      "source": [
        "model = Sequential()\n",
        "model.add(Embedding(MAX_NB_WORDS, EMBEDDING_DIM, input_length=X.shape[1]))\n",
        "model.add(LSTM(64))\n",
        "model.add(Dense(256, activation='relu'))\n",
        "model.add(Dropout(0.5))\n",
        "model.add(Dense(l, activation='softmax'))\n",
        "model.compile(loss='categorical_crossentropy', optimizer='adam', metrics=['accuracy'])\n",
        "print(model.summary())\n",
        "\n",
        "plot_model(model,'qw.png',show_shapes=True)"
      ],
      "metadata": {
        "colab": {
          "base_uri": "https://localhost:8080/",
          "height": 991
        },
        "id": "2ynw7FsSO4vx",
        "outputId": "98ec5f88-c7a3-4bce-b1e0-9489111729f6"
      },
      "execution_count": null,
      "outputs": [
        {
          "output_type": "stream",
          "name": "stdout",
          "text": [
            "Model: \"sequential\"\n",
            "_________________________________________________________________\n",
            " Layer (type)                Output Shape              Param #   \n",
            "=================================================================\n",
            " embedding (Embedding)       (None, 250, 100)          5000000   \n",
            "                                                                 \n",
            " lstm (LSTM)                 (None, 64)                42240     \n",
            "                                                                 \n",
            " dense (Dense)               (None, 256)               16640     \n",
            "                                                                 \n",
            " dropout (Dropout)           (None, 256)               0         \n",
            "                                                                 \n",
            " dense_1 (Dense)             (None, 3)                 771       \n",
            "                                                                 \n",
            "=================================================================\n",
            "Total params: 5,059,651\n",
            "Trainable params: 5,059,651\n",
            "Non-trainable params: 0\n",
            "_________________________________________________________________\n",
            "None\n"
          ]
        },
        {
          "output_type": "execute_result",
          "data": {
            "text/plain": [
              "<IPython.core.display.Image object>"
            ],
            "image/png": "[encoded data removed]"
          },
          "metadata": {},
          "execution_count": 50
        }
      ]
    },
    {
      "cell_type": "code",
      "source": [
        "epochs = 3\n",
        "batch_size = 128"
      ],
      "metadata": {
        "id": "Od1y1TUVO951"
      },
      "execution_count": null,
      "outputs": []
    },
    {
      "cell_type": "code",
      "source": [
        "history = model.fit(train_features, train_labels, epochs=epochs, batch_size=batch_size,validation_split=0.1,callbacks=[EarlyStopping(monitor='val_loss', patience=3, min_delta=0.0001)])"
      ],
      "metadata": {
        "colab": {
          "base_uri": "https://localhost:8080/"
        },
        "id": "c_QIZ4nZPDzS",
        "outputId": "b996ea4a-c9ac-4607-839b-67314341004d"
      },
      "execution_count": null,
      "outputs": [
        {
          "output_type": "stream",
          "name": "stdout",
          "text": [
            "Epoch 1/3\n",
            "205/205 [==============================] - 100s 476ms/step - loss: 0.4355 - accuracy: 0.8432 - val_loss: 0.1791 - val_accuracy: 0.9380\n",
            "Epoch 2/3\n",
            "205/205 [==============================] - 96s 469ms/step - loss: 0.1268 - accuracy: 0.9694 - val_loss: 0.1628 - val_accuracy: 0.9415\n",
            "Epoch 3/3\n",
            "205/205 [==============================] - 96s 469ms/step - loss: 0.0994 - accuracy: 0.9759 - val_loss: 0.1571 - val_accuracy: 0.9425\n"
          ]
        }
      ]
    },
    {
      "cell_type": "code",
      "source": [
        "accr = model.evaluate(test_features,test_labels)\n",
        "print('Test set\\n  Loss: {:0.3f}\\n  Accuracy: {:0.3f}'.format(accr[0],accr[1]))"
      ],
      "metadata": {
        "colab": {
          "base_uri": "https://localhost:8080/"
        },
        "id": "zgfb68AQQ7kL",
        "outputId": "7e6e3856-f744-4f2c-8b9b-57311311b328"
      },
      "execution_count": null,
      "outputs": [
        {
          "output_type": "stream",
          "name": "stdout",
          "text": [
            "101/101 [==============================] - 4s 36ms/step - loss: 0.1784 - accuracy: 0.9368\n",
            "Test set\n",
            "  Loss: 0.178\n",
            "  Accuracy: 0.937\n"
          ]
        }
      ]
    },
    {
      "cell_type": "code",
      "source": [
        "from matplotlib import pyplot as plt\n",
        "plt.title('Loss')\n",
        "plt.plot(history.history['loss'],'r', label='train')\n",
        "plt.plot(history.history['val_loss'],'b', label='test')\n",
        "plt.legend()\n",
        "plt.show()\n",
        "plt.title('Accuracy')\n",
        "plt.plot(history.history['accuracy'],'r', label='train')\n",
        "plt.plot(history.history['val_accuracy'],'b', label='test')\n",
        "plt.legend()\n",
        "plt.show()"
      ],
      "metadata": {
        "colab": {
          "base_uri": "https://localhost:8080/",
          "height": 545
        },
        "id": "qdaBkmwjRRrn",
        "outputId": "58e6b9a5-03ab-4113-d789-565a1c43ec34"
      },
      "execution_count": null,
      "outputs": [
        {
          "output_type": "display_data",
          "data": {
            "text/plain": [
              "<Figure size 432x288 with 1 Axes>"
            ],
            "image/png": "[encoded data removed]"
          },
          "metadata": {
            "needs_background": "light"
          }
        },
        {
          "output_type": "display_data",
          "data": {
            "text/plain": [
              "<Figure size 432x288 with 1 Axes>"
            ],
            "image/png": "[encoded data removed]"
          },
          "metadata": {
            "needs_background": "light"
          }
        }
      ]
    },
    {
      "cell_type": "code",
      "source": [
        "predicted_classes = model.predict(test_features)\n",
        "predicted_classes = np.argmax(np.round(predicted_classes),axis=1)\n",
        "test_Y = np.argmax(np.round(test_labels),axis=1)"
      ],
      "metadata": {
        "id": "n_2udVkZRY7P"
      },
      "execution_count": null,
      "outputs": []
    },
    {
      "cell_type": "code",
      "source": [
        "predicted_classes.shape, test_labels.shape\n",
        "print(test_labels.shape)"
      ],
      "metadata": {
        "colab": {
          "base_uri": "https://localhost:8080/"
        },
        "id": "l4-1dSa2Rh26",
        "outputId": "ed4401db-2ade-404e-d756-4218f4167662"
      },
      "execution_count": null,
      "outputs": [
        {
          "output_type": "stream",
          "name": "stdout",
          "text": [
            "(3227, 3)\n"
          ]
        }
      ]
    },
    {
      "cell_type": "code",
      "source": [
        "test_Y=[]\n",
        "for i in range (3227):\n",
        "    for j in range (3):\n",
        "        if(test_labels[i][j]==1):\n",
        "            test_Y.append(j)\n",
        "print(len(test_Y))"
      ],
      "metadata": {
        "colab": {
          "base_uri": "https://localhost:8080/"
        },
        "id": "f5RdaI5IRnB3",
        "outputId": "fb6375b5-9cf5-4567-d124-1a5b09c3ec35"
      },
      "execution_count": null,
      "outputs": [
        {
          "output_type": "stream",
          "name": "stdout",
          "text": [
            "3227\n"
          ]
        }
      ]
    },
    {
      "cell_type": "code",
      "source": [
        "from sklearn.metrics import classification_report\n",
        "target_names = [\"Class {}\".format(i) for i in range(3)]\n",
        "print(classification_report(test_Y, predicted_classes))"
      ],
      "metadata": {
        "colab": {
          "base_uri": "https://localhost:8080/"
        },
        "id": "3xjCNArlRv5f",
        "outputId": "544e4e1d-f11d-4144-c962-f8fcf2c8c450"
      },
      "execution_count": null,
      "outputs": [
        {
          "output_type": "stream",
          "name": "stdout",
          "text": [
            "              precision    recall  f1-score   support\n",
            "\n",
            "           0       0.91      0.97      0.94      1084\n",
            "           1       0.93      0.95      0.94      1078\n",
            "           2       0.99      0.91      0.95      1065\n",
            "\n",
            "    accuracy                           0.94      3227\n",
            "   macro avg       0.94      0.94      0.94      3227\n",
            "weighted avg       0.94      0.94      0.94      3227\n",
            "\n"
          ]
        }
      ]
    },
    {
      "cell_type": "code",
      "source": [
        "print(__doc__)\n",
        "\n",
        "import itertools\n",
        "import numpy as np\n",
        "import matplotlib.pyplot as plt\n",
        "\n",
        "from sklearn import svm, datasets\n",
        "from sklearn.model_selection import train_test_split\n",
        "from sklearn.metrics import confusion_matrix\n",
        "\n",
        "\n",
        "class_names = name\n",
        "\n",
        "def plot_confusion_matrix(cm, classes,\n",
        "                          normalize=False,\n",
        "                          title='Confusion matrix',\n",
        "                          cmap=plt.cm.Blues):\n",
        "    \"\"\"\n",
        "    This function prints and plots the confusion matrix.\n",
        "    Normalization can be applied by setting `normalize=True`.\n",
        "    \"\"\"\n",
        "    if normalize:\n",
        "        cm = cm.astype('float') / cm.sum(axis=1)[:, np.newaxis]\n",
        "        print(\"Normalized confusion matrix\")\n",
        "    else:\n",
        "        print('Confusion matrix, without normalization')\n",
        "\n",
        "    print(cm)\n",
        "\n",
        "    plt.imshow(cm, interpolation='nearest', cmap=cmap)\n",
        "    plt.title(title)\n",
        "    plt.colorbar()\n",
        "    tick_marks = np.arange(len(classes))\n",
        "    plt.xticks(tick_marks, classes, rotation=0)\n",
        "    plt.yticks(tick_marks, classes)\n",
        "\n",
        "    fmt = '.2f' if normalize else 'd'\n",
        "    thresh = cm.max() / 2.\n",
        "    for i, j in itertools.product(range(cm.shape[0]), range(cm.shape[1])):\n",
        "        plt.text(j, i, format(cm[i, j], fmt),\n",
        "                 horizontalalignment=\"center\",\n",
        "                 color=\"white\" if cm[i, j] > thresh else \"black\")\n",
        "\n",
        "    plt.tight_layout()\n",
        "    plt.ylabel('True label')\n",
        "    plt.xlabel('Predicted label')\n",
        "\n",
        "# Compute confusion matrix\n",
        "cnf_matrix = confusion_matrix(test_Y, predicted_classes)\n",
        "np.set_printoptions(precision=2)\n",
        "\n",
        "# Plot non-normalized confusion matrix\n",
        "plt.figure()\n",
        "plot_confusion_matrix(cnf_matrix, classes=class_names,\n",
        "                      title='Confusion matrix, without normalization')\n",
        "\n",
        "# Plot normalized confusion matrix\n",
        "plt.figure()\n",
        "plot_confusion_matrix(cnf_matrix, classes=class_names, normalize=True,\n",
        "                      title='Normalized confusion matrix')\n",
        "\n",
        "plt.show()"
      ],
      "metadata": {
        "colab": {
          "base_uri": "https://localhost:8080/",
          "height": 761
        },
        "id": "IXhOSA8dlfJm",
        "outputId": "20b84f60-e07b-453f-c473-79f118b69f39"
      },
      "execution_count": null,
      "outputs": [
        {
          "output_type": "stream",
          "name": "stdout",
          "text": [
            "Automatically created module for IPython interactive environment\n",
            "Confusion matrix, without normalization\n",
            "[[ 918   64   30]\n",
            " [  28 1006   16]\n",
            " [  32   54 1079]]\n",
            "Normalized confusion matrix\n",
            "[[0.91 0.06 0.03]\n",
            " [0.03 0.96 0.02]\n",
            " [0.03 0.05 0.93]]\n"
          ]
        },
        {
          "output_type": "display_data",
          "data": {
            "text/plain": [
              "<Figure size 432x288 with 2 Axes>"
            ],
            "image/png": "[encoded data removed]"
          },
          "metadata": {
            "needs_background": "light"
          }
        },
        {
          "output_type": "display_data",
          "data": {
            "text/plain": [
              "<Figure size 432x288 with 2 Axes>"
            ],
            "image/png": "[encoded data removed]"
          },
          "metadata": {
            "needs_background": "light"
          }
        }
      ]
    },
    {
      "cell_type": "code",
      "source": [
        "train.mutation.value_counts()"
      ],
      "metadata": {
        "colab": {
          "base_uri": "https://localhost:8080/"
        },
        "id": "8tqm5DsxZGGV",
        "outputId": "6267c9e2-31c0-4e64-9d9e-89b98efff981"
      },
      "execution_count": null,
      "outputs": [
        {
          "output_type": "execute_result",
          "data": {
            "text/plain": [
              "0    10754\n",
              "1    10754\n",
              "2    10754\n",
              "Name: mutation, dtype: int64"
            ]
          },
          "metadata": {},
          "execution_count": 59
        }
      ]
    },
    {
      "cell_type": "code",
      "source": [
        "finalData = train\n",
        "finalData.mutation = finalData.mutation.astype(int)"
      ],
      "metadata": {
        "id": "Pl-spB-jZIXx"
      },
      "execution_count": null,
      "outputs": []
    },
    {
      "cell_type": "code",
      "source": [
        "from sklearn.model_selection import train_test_split\n",
        "from sklearn.preprocessing import LabelBinarizer\n",
        "from keras.preprocessing.text import Tokenizer\n",
        "from keras.preprocessing.sequence import pad_sequences\n",
        "from sklearn.feature_extraction.text import TfidfVectorizer\n",
        "from keras.layers import SpatialDropout1D\n",
        "from tensorflow.keras.utils import to_categorical\n",
        "from sklearn.metrics import classification_report\n",
        "from sklearn.metrics import roc_auc_score\n",
        "from sklearn.metrics import roc_curve\n",
        "from sklearn.metrics import precision_recall_curve\n",
        "from sklearn.model_selection import GridSearchCV\n",
        "from keras.models import Sequential\n",
        "from keras.layers import Dense\n",
        "#from keras.layers import CNN \n",
        "from tensorflow.keras.layers import Conv1D\n",
        "from tensorflow.keras.layers import MaxPooling1D\n",
        "from tensorflow.keras.layers import Dense\n",
        "from tensorflow.keras.layers import Flatten\n",
        "from keras.layers import Dropout\n",
        "from keras.layers import Bidirectional\n",
        "from keras.layers import GlobalMaxPool1D\n",
        "from tensorflow.keras.utils import plot_model\n",
        "from keras.layers.embeddings import Embedding\n",
        "from keras.preprocessing import sequence\n",
        "from keras.callbacks import EarlyStopping\n",
        "from sklearn.feature_selection import RFE\n",
        "import re"
      ],
      "metadata": {
        "id": "7k_RjzhsZQSV"
      },
      "execution_count": null,
      "outputs": []
    },
    {
      "cell_type": "code",
      "source": [
        "# The maximum number of words to be used. (most frequent)\n",
        "MAX_NB_WORDS = 50000\n",
        "# Max number of words in each complaint.\n",
        "MAX_SEQUENCE_LENGTH = 250\n",
        "# This is fixed.\n",
        "EMBEDDING_DIM = 100\n",
        "tokenizer = Tokenizer(num_words=MAX_NB_WORDS, filters='!\"#$%&()*+,-./:;<=>?@[\\]^_`{|}~।', lower=False)\n",
        "tokenizer.fit_on_texts(finalData.sequence.values)\n",
        "word_index = tokenizer.word_index\n",
        "print('Found %s unique tokens.' % len(word_index))"
      ],
      "metadata": {
        "colab": {
          "base_uri": "https://localhost:8080/"
        },
        "id": "dR1pVdORa6bL",
        "outputId": "a8da4eda-5422-4e52-ae56-75c89a592b26"
      },
      "execution_count": null,
      "outputs": [
        {
          "output_type": "stream",
          "name": "stdout",
          "text": [
            "Found 3332 unique tokens.\n"
          ]
        }
      ]
    },
    {
      "cell_type": "code",
      "source": [
        "X = tokenizer.texts_to_sequences(finalData.sequence.values)\n",
        "X = pad_sequences(X, maxlen=MAX_SEQUENCE_LENGTH)\n",
        "print('Shape of data tensor:', X.shape)"
      ],
      "metadata": {
        "colab": {
          "base_uri": "https://localhost:8080/"
        },
        "id": "__sEUNQHbEoA",
        "outputId": "413559b9-29da-4a37-b2f3-da8e610ec7ba"
      },
      "execution_count": null,
      "outputs": [
        {
          "output_type": "stream",
          "name": "stdout",
          "text": [
            "Shape of data tensor: (32262, 250)\n"
          ]
        }
      ]
    },
    {
      "cell_type": "code",
      "source": [
        "Y = pd.get_dummies(finalData.mutation).values\n",
        "print('Shape of label tensor:', Y.shape)"
      ],
      "metadata": {
        "colab": {
          "base_uri": "https://localhost:8080/"
        },
        "id": "JvjZ3EQIbMB_",
        "outputId": "698320a9-cc51-4443-a342-cd6cac0caa23"
      },
      "execution_count": null,
      "outputs": [
        {
          "output_type": "stream",
          "name": "stdout",
          "text": [
            "Shape of label tensor: (32262, 3)\n"
          ]
        }
      ]
    },
    {
      "cell_type": "code",
      "source": [
        "train_features, test_features, train_labels, test_labels = train_test_split(X, Y, test_size=.10)"
      ],
      "metadata": {
        "id": "Qj8_YekjbY7P"
      },
      "execution_count": null,
      "outputs": []
    },
    {
      "cell_type": "code",
      "source": [
        "model = Sequential()\n",
        "model.add(Embedding(MAX_NB_WORDS, EMBEDDING_DIM, input_length=X.shape[1]))\n",
        "#model.add(Conv1D(filters=256, kernel_size=4, padding='same', activation='relu'))\n",
        "#model.add(MaxPooling1D(pool_size=2))\n",
        "model.add(Conv1D(filters=128, kernel_size=4, padding='same', activation='relu'))\n",
        "model.add(MaxPooling1D(pool_size=2))\n",
        "model.add(Conv1D(filters=64, kernel_size=4, padding='same', activation='relu'))\n",
        "model.add(MaxPooling1D(pool_size=2))\n",
        "#model.add(Conv1D(filters=32, kernel_size=4, padding='same', activation='relu'))\n",
        "#model.add(MaxPooling1D(pool_size=2))\n",
        "model.add(Flatten())\n",
        "model.add(Dense(256, activation='relu'))\n",
        "model.add(Dropout(0.5))\n",
        "model.add(Dense(l, activation='softmax'))\n",
        "model.compile(loss='categorical_crossentropy', optimizer='adam', metrics=['accuracy'])\n",
        "print(model.summary())\n",
        "\n",
        "plot_model(model,'qw1.png',show_shapes=True)"
      ],
      "metadata": {
        "colab": {
          "base_uri": "https://localhost:8080/",
          "height": 1000
        },
        "id": "ach_gA_MbarX",
        "outputId": "913dd89a-5017-48fa-8598-a256f294b75c"
      },
      "execution_count": null,
      "outputs": [
        {
          "output_type": "stream",
          "name": "stdout",
          "text": [
            "Model: \"sequential_1\"\n",
            "_________________________________________________________________\n",
            " Layer (type)                Output Shape              Param #   \n",
            "=================================================================\n",
            " embedding_1 (Embedding)     (None, 250, 100)          5000000   \n",
            "                                                                 \n",
            " conv1d (Conv1D)             (None, 250, 128)          51328     \n",
            "                                                                 \n",
            " max_pooling1d (MaxPooling1D  (None, 125, 128)         0         \n",
            " )                                                               \n",
            "                                                                 \n",
            " conv1d_1 (Conv1D)           (None, 125, 64)           32832     \n",
            "                                                                 \n",
            " max_pooling1d_1 (MaxPooling  (None, 62, 64)           0         \n",
            " 1D)                                                             \n",
            "                                                                 \n",
            " flatten (Flatten)           (None, 3968)              0         \n",
            "                                                                 \n",
            " dense_2 (Dense)             (None, 256)               1016064   \n",
            "                                                                 \n",
            " dropout_1 (Dropout)         (None, 256)               0         \n",
            "                                                                 \n",
            " dense_3 (Dense)             (None, 3)                 771       \n",
            "                                                                 \n",
            "=================================================================\n",
            "Total params: 6,100,995\n",
            "Trainable params: 6,100,995\n",
            "Non-trainable params: 0\n",
            "_________________________________________________________________\n",
            "None\n"
          ]
        },
        {
          "output_type": "execute_result",
          "data": {
            "text/plain": [
              "<IPython.core.display.Image object>"
            ],
            "image/png": "[encoded data removed]"
          },
          "metadata": {},
          "execution_count": 66
        }
      ]
    },
    {
      "cell_type": "code",
      "source": [
        "epochs = 3\n",
        "batch_size = 128"
      ],
      "metadata": {
        "id": "aHd1z_hjpucV"
      },
      "execution_count": null,
      "outputs": []
    },
    {
      "cell_type": "code",
      "source": [
        "history = model.fit(train_features, train_labels, epochs=epochs, batch_size=batch_size,validation_split=0.1,callbacks=[EarlyStopping(monitor='val_loss', patience=3, min_delta=0.0001)])"
      ],
      "metadata": {
        "colab": {
          "base_uri": "https://localhost:8080/"
        },
        "id": "DkGmhaLpp_Wk",
        "outputId": "a6f0204d-77bf-4979-a522-93739dcc13e3"
      },
      "execution_count": null,
      "outputs": [
        {
          "output_type": "stream",
          "name": "stdout",
          "text": [
            "Epoch 1/3\n",
            "205/205 [==============================] - 87s 421ms/step - loss: 0.4174 - accuracy: 0.8268 - val_loss: 0.1925 - val_accuracy: 0.9360\n",
            "Epoch 2/3\n",
            "205/205 [==============================] - 87s 423ms/step - loss: 0.1253 - accuracy: 0.9672 - val_loss: 0.1884 - val_accuracy: 0.9390\n",
            "Epoch 3/3\n",
            "205/205 [==============================] - 86s 418ms/step - loss: 0.0983 - accuracy: 0.9757 - val_loss: 0.2004 - val_accuracy: 0.9356\n"
          ]
        }
      ]
    },
    {
      "cell_type": "code",
      "source": [
        "accr = model.evaluate(test_features,test_labels)\n",
        "print('Test set\\n  Loss: {:0.3f}\\n  Accuracy: {:0.3f}'.format(accr[0],accr[1]))"
      ],
      "metadata": {
        "id": "6LKsR83Xw-Ho",
        "colab": {
          "base_uri": "https://localhost:8080/"
        },
        "outputId": "f880760d-c780-460f-e10c-17659e52ddfb"
      },
      "execution_count": null,
      "outputs": [
        {
          "output_type": "stream",
          "name": "stdout",
          "text": [
            "101/101 [==============================] - 3s 29ms/step - loss: 0.1924 - accuracy: 0.9300\n",
            "Test set\n",
            "  Loss: 0.192\n",
            "  Accuracy: 0.930\n"
          ]
        }
      ]
    },
    {
      "cell_type": "code",
      "source": [
        "from matplotlib import pyplot as plt\n",
        "plt.title('Loss')\n",
        "plt.plot(history.history['loss'],'r', label='train')\n",
        "plt.plot(history.history['val_loss'],'b', label='test')\n",
        "plt.legend()\n",
        "plt.show()\n",
        "plt.title('Accuracy')\n",
        "plt.plot(history.history['accuracy'],'r', label='train')\n",
        "plt.plot(history.history['val_accuracy'],'b', label='test')\n",
        "plt.legend()\n",
        "plt.show()"
      ],
      "metadata": {
        "colab": {
          "base_uri": "https://localhost:8080/",
          "height": 545
        },
        "id": "sixqcvYoi_Od",
        "outputId": "49e35f9a-00d2-405f-e8b7-e155c5de80cf"
      },
      "execution_count": null,
      "outputs": [
        {
          "output_type": "display_data",
          "data": {
            "text/plain": [
              "<Figure size 432x288 with 1 Axes>"
            ],
            "image/png": "[encoded data removed]"
          },
          "metadata": {
            "needs_background": "light"
          }
        },
        {
          "output_type": "display_data",
          "data": {
            "text/plain": [
              "<Figure size 432x288 with 1 Axes>"
            ],
            "image/png": "[encoded data removed]"
          },
          "metadata": {
            "needs_background": "light"
          }
        }
      ]
    },
    {
      "cell_type": "code",
      "source": [
        "predicted_classes = model.predict(test_features)\n",
        "predicted_classes = np.argmax(np.round(predicted_classes),axis=1)\n",
        "test_Y = np.argmax(np.round(test_labels),axis=1)"
      ],
      "metadata": {
        "id": "RvGXhf81xEih"
      },
      "execution_count": null,
      "outputs": []
    },
    {
      "cell_type": "code",
      "source": [
        "predicted_classes.shape, test_labels.shape\n",
        "print(test_labels.shape)"
      ],
      "metadata": {
        "id": "Ax_XKCifxQfZ",
        "colab": {
          "base_uri": "https://localhost:8080/"
        },
        "outputId": "25a0a313-6c46-488e-a901-fd22d33a3f4b"
      },
      "execution_count": null,
      "outputs": [
        {
          "output_type": "stream",
          "name": "stdout",
          "text": [
            "(3227, 3)\n"
          ]
        }
      ]
    },
    {
      "cell_type": "code",
      "source": [
        "test_Y=[]\n",
        "for i in range (3227):\n",
        "    for j in range (3):\n",
        "        if(test_labels[i][j]==1):\n",
        "            test_Y.append(j)\n",
        "print(len(test_Y))"
      ],
      "metadata": {
        "id": "oiurACMVxcVq",
        "colab": {
          "base_uri": "https://localhost:8080/"
        },
        "outputId": "69eed0ce-73da-4b4f-d1ff-1bafd435689e"
      },
      "execution_count": null,
      "outputs": [
        {
          "output_type": "stream",
          "name": "stdout",
          "text": [
            "3227\n"
          ]
        }
      ]
    },
    {
      "cell_type": "code",
      "source": [
        "from sklearn.metrics import classification_report\n",
        "target_names = [\"Class {}\".format(i) for i in range(3)]\n",
        "print(classification_report(test_Y, predicted_classes))"
      ],
      "metadata": {
        "id": "EcRZLnpoxeUK",
        "colab": {
          "base_uri": "https://localhost:8080/"
        },
        "outputId": "686287ec-83ea-4e4b-9c90-c233c015a66f"
      },
      "execution_count": null,
      "outputs": [
        {
          "output_type": "stream",
          "name": "stdout",
          "text": [
            "              precision    recall  f1-score   support\n",
            "\n",
            "           0       0.94      0.91      0.92      1012\n",
            "           1       0.90      0.96      0.93      1050\n",
            "           2       0.96      0.93      0.94      1165\n",
            "\n",
            "    accuracy                           0.93      3227\n",
            "   macro avg       0.93      0.93      0.93      3227\n",
            "weighted avg       0.93      0.93      0.93      3227\n",
            "\n"
          ]
        }
      ]
    },
    {
      "cell_type": "code",
      "source": [
        "name=[]\n",
        "for i in range(3):\n",
        "  name.append(i)"
      ],
      "metadata": {
        "id": "fkpBgGdDR5lK"
      },
      "execution_count": null,
      "outputs": []
    },
    {
      "cell_type": "code",
      "source": [
        "# Plot confusion matrix\n",
        "conf_mat = confusion_matrix(test_Y, predicted_classes, labels = name)\n",
        "\n",
        "#Normalize confusion_matrix\n",
        "conf_mat = conf_mat.astype('float')/ conf_mat.sum(axis=1)[:, np.newaxis]\n",
        "\n",
        "# Plot Heat Map\n",
        "fig , ax = plt.subplots()\n",
        "fig.set_size_inches(13, 8)\n",
        "sns.heatmap(conf_mat)"
      ],
      "metadata": {
        "id": "diKiN7sYSAca",
        "colab": {
          "base_uri": "https://localhost:8080/",
          "height": 500
        },
        "outputId": "c7f89e06-8d3d-401a-f2ae-81e40f6080d6"
      },
      "execution_count": null,
      "outputs": [
        {
          "output_type": "execute_result",
          "data": {
            "text/plain": [
              "<matplotlib.axes._subplots.AxesSubplot at 0x7f3103cbf690>"
            ]
          },
          "metadata": {},
          "execution_count": 76
        },
        {
          "output_type": "display_data",
          "data": {
            "text/plain": [
              "<Figure size 936x576 with 2 Axes>"
            ],
            "image/png": "[encoded data removed]"
          },
          "metadata": {
            "needs_background": "light"
          }
        }
      ]
    },
    {
      "cell_type": "code",
      "source": [
        "print(__doc__)\n",
        "\n",
        "import itertools\n",
        "import numpy as np\n",
        "import matplotlib.pyplot as plt\n",
        "\n",
        "from sklearn import svm, datasets\n",
        "from sklearn.model_selection import train_test_split\n",
        "from sklearn.metrics import confusion_matrix\n",
        "\n",
        "\n",
        "class_names = name\n",
        "\n",
        "def plot_confusion_matrix(cm, classes,\n",
        "                          normalize=False,\n",
        "                          title='Confusion matrix',\n",
        "                          cmap=plt.cm.Blues):\n",
        "    \"\"\"\n",
        "    This function prints and plots the confusion matrix.\n",
        "    Normalization can be applied by setting `normalize=True`.\n",
        "    \"\"\"\n",
        "    if normalize:\n",
        "        cm = cm.astype('float') / cm.sum(axis=1)[:, np.newaxis]\n",
        "        print(\"Normalized confusion matrix\")\n",
        "    else:\n",
        "        print('Confusion matrix, without normalization')\n",
        "\n",
        "    print(cm)\n",
        "\n",
        "    plt.imshow(cm, interpolation='nearest', cmap=cmap)\n",
        "    plt.title(title)\n",
        "    plt.colorbar()\n",
        "    tick_marks = np.arange(len(classes))\n",
        "    plt.xticks(tick_marks, classes, rotation=0)\n",
        "    plt.yticks(tick_marks, classes)\n",
        "\n",
        "    fmt = '.2f' if normalize else 'd'\n",
        "    thresh = cm.max() / 2.\n",
        "    for i, j in itertools.product(range(cm.shape[0]), range(cm.shape[1])):\n",
        "        plt.text(j, i, format(cm[i, j], fmt),\n",
        "                 horizontalalignment=\"center\",\n",
        "                 color=\"white\" if cm[i, j] > thresh else \"black\")\n",
        "\n",
        "    plt.tight_layout()\n",
        "    plt.ylabel('True label')\n",
        "    plt.xlabel('Predicted label')\n",
        "\n",
        "# Compute confusion matrix\n",
        "cnf_matrix = confusion_matrix(test_Y, predicted_classes)\n",
        "np.set_printoptions(precision=2)\n",
        "\n",
        "# Plot non-normalized confusion matrix\n",
        "plt.figure()\n",
        "plot_confusion_matrix(cnf_matrix, classes=class_names,\n",
        "                      title='Confusion matrix, without normalization')\n",
        "\n",
        "# Plot normalized confusion matrix\n",
        "plt.figure()\n",
        "plot_confusion_matrix(cnf_matrix, classes=class_names, normalize=True,\n",
        "                      title='Normalized confusion matrix')\n",
        "\n",
        "plt.show()"
      ],
      "metadata": {
        "id": "nor-RlgUSGeM",
        "colab": {
          "base_uri": "https://localhost:8080/",
          "height": 761
        },
        "outputId": "4563a6ab-3e3c-499b-fc69-228c8e0b89fd"
      },
      "execution_count": null,
      "outputs": [
        {
          "output_type": "stream",
          "name": "stdout",
          "text": [
            "Automatically created module for IPython interactive environment\n",
            "Confusion matrix, without normalization\n",
            "[[ 918   64   30]\n",
            " [  28 1006   16]\n",
            " [  32   54 1079]]\n",
            "Normalized confusion matrix\n",
            "[[0.91 0.06 0.03]\n",
            " [0.03 0.96 0.02]\n",
            " [0.03 0.05 0.93]]\n"
          ]
        },
        {
          "output_type": "display_data",
          "data": {
            "text/plain": [
              "<Figure size 432x288 with 2 Axes>"
            ],
            "image/png": "[encoded data removed]"
          },
          "metadata": {
            "needs_background": "light"
          }
        },
        {
          "output_type": "display_data",
          "data": {
            "text/plain": [
              "<Figure size 432x288 with 2 Axes>"
            ],
            "image/png": "[encoded data removed]"
          },
          "metadata": {
            "needs_background": "light"
          }
        }
      ]
    }
  ]
}